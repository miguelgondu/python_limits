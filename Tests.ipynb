{
 "cells": [
  {
   "cell_type": "code",
   "execution_count": 1,
   "metadata": {
    "collapsed": true
   },
   "outputs": [],
   "source": [
    "from algorithm import *"
   ]
  },
  {
   "cell_type": "code",
   "execution_count": 2,
   "metadata": {
    "collapsed": true
   },
   "outputs": [],
   "source": [
    "sympy.init_printing(use_latex=True)"
   ]
  },
  {
   "cell_type": "code",
   "execution_count": 3,
   "metadata": {},
   "outputs": [
    {
     "data": {
      "image/png": "[encoded data removed]",
      "text/latex": [
       "$$x^{2} y^{3} + y^{2} + 3$$"
      ],
      "text/plain": [
       " 2  3    2    \n",
       "x ⋅y  + y  + 3"
      ]
     },
     "execution_count": 3,
     "metadata": {},
     "output_type": "execute_result"
    }
   ],
   "source": [
    "x, y = sympy.symbols('x y')\n",
    "h = x**2*y**3 + y**2 + 3\n",
    "h"
   ]
  },
  {
   "cell_type": "code",
   "execution_count": 4,
   "metadata": {},
   "outputs": [
    {
     "name": "stdout",
     "output_type": "stream",
     "text": [
      "1\n",
      "(-8*x + y)**3*(x + 8*y)**2/64 + (-8*x + y)**2/64 + 3/64\n"
     ]
    }
   ],
   "source": [
    "new_h = monic_maker(h)\n",
    "print(sympy.LC(new_h, y))\n",
    "print(new_h)"
   ]
  },
  {
   "cell_type": "code",
   "execution_count": 5,
   "metadata": {
    "collapsed": true
   },
   "outputs": [],
   "source": [
    "f = x**2 + y**2\n",
    "g = x**2 - y**2\n",
    "h = h_getter(f,g)\n",
    "h = h.simplify() # Que lo simplifique en el código"
   ]
  },
  {
   "cell_type": "code",
   "execution_count": 11,
   "metadata": {},
   "outputs": [
    {
     "name": "stdout",
     "output_type": "stream",
     "text": [
      "(-3*x + y)*(x + 3*y)*((-3*x + y)**2 + (x + 3*y)**2)/30\n"
     ]
    },
    {
     "data": {
      "image/png": "[encoded data removed]",
      "text/latex": [
       "$$- \\frac{91 x^{4}}{27} - \\frac{136 y}{27} x^{3} - \\frac{8 x^{2}}{3} y^{2} + y^{4}$$"
      ],
      "text/plain": [
       "      4        3        2  2     \n",
       "  91⋅x    136⋅x ⋅y   8⋅x ⋅y     4\n",
       "- ───── - ──────── - ─────── + y \n",
       "    27       27         3        "
      ]
     },
     "execution_count": 11,
     "metadata": {},
     "output_type": "execute_result"
    }
   ],
   "source": [
    "new_h = monic_maker(h, 3)\n",
    "print(new_h)\n",
    "new_new_h, b1 = phi_automorphism(new_h)\n",
    "new_new_h.simplify() # Change everything to sympy expressions."
   ]
  },
  {
   "cell_type": "code",
   "execution_count": 12,
   "metadata": {},
   "outputs": [
    {
     "data": {
      "text/plain": [
       "sympy.core.mul.Mul"
      ]
     },
     "execution_count": 12,
     "metadata": {},
     "output_type": "execute_result"
    }
   ],
   "source": [
    "type(new_new_h.as_expr())"
   ]
  },
  {
   "cell_type": "code",
   "execution_count": 13,
   "metadata": {
    "collapsed": true
   },
   "outputs": [],
   "source": [
    "r, ur = ur_getter(new_new_h)"
   ]
  },
  {
   "cell_type": "code",
   "execution_count": 14,
   "metadata": {},
   "outputs": [
    {
     "name": "stdout",
     "output_type": "stream",
     "text": [
      "2\n",
      "2\n"
     ]
    }
   ],
   "source": [
    "print(r)\n",
    "print(ur)"
   ]
  },
  {
   "cell_type": "code",
   "execution_count": 15,
   "metadata": {},
   "outputs": [
    {
     "data": {
      "image/png": "[encoded data removed]",
      "text/latex": [
       "$$\\frac{x^{8}}{27} \\left(27 y^{4} - 72 y^{2} - 136 y - 91\\right)$$"
      ],
      "text/plain": [
       " 8 ⎛    4       2             ⎞\n",
       "x ⋅⎝27⋅y  - 72⋅y  - 136⋅y - 91⎠\n",
       "───────────────────────────────\n",
       "               27              "
      ]
     },
     "execution_count": 15,
     "metadata": {},
     "output_type": "execute_result"
    }
   ],
   "source": [
    "h_newton = newton_automorphism(new_new_h, r, ur)\n",
    "h_newton.simplify()"
   ]
  },
  {
   "cell_type": "code",
   "execution_count": 24,
   "metadata": {},
   "outputs": [
    {
     "data": {
      "image/png": "[encoded data removed]",
      "text/latex": [
       "$$\\left ( \\frac{1}{27}, \\quad \\left [ \\left ( y + 1, \\quad 1\\right ), \\quad \\left ( 3 y - 7, \\quad 1\\right ), \\quad \\left ( x, \\quad 8\\right ), \\quad \\left ( 9 y^{2} + 12 y + 13, \\quad 1\\right )\\right ]\\right )$$"
      ],
      "text/plain": [
       "⎛      ⎡                                  ⎛   2               ⎞⎤⎞\n",
       "⎝1/27, ⎣(y + 1, 1), (3⋅y - 7, 1), (x, 8), ⎝9⋅y  + 12⋅y + 13, 1⎠⎦⎠"
      ]
     },
     "execution_count": 24,
     "metadata": {},
     "output_type": "execute_result"
    }
   ],
   "source": [
    "sympy.factor_list(h_newton)"
   ]
  }
 ],
 "metadata": {
  "kernelspec": {
   "display_name": "Python 3",
   "language": "python",
   "name": "python3"
  },
  "language_info": {
   "codemirror_mode": {
    "name": "ipython",
    "version": 3
   },
   "file_extension": ".py",
   "mimetype": "text/x-python",
   "name": "python",
   "nbconvert_exporter": "python",
   "pygments_lexer": "ipython3",
   "version": "3.5.2"
  }
 },
 "nbformat": 4,
 "nbformat_minor": 2
}
