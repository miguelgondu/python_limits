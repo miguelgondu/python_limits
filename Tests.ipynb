{
 "cells": [
  {
   "cell_type": "code",
   "execution_count": 1,
   "metadata": {
    "collapsed": true
   },
   "outputs": [],
   "source": [
    "from algorithm import *"
   ]
  },
  {
   "cell_type": "code",
   "execution_count": 2,
   "metadata": {
    "collapsed": true
   },
   "outputs": [],
   "source": [
    "sympy.init_printing(use_latex=True)"
   ]
  },
  {
   "cell_type": "code",
   "execution_count": 3,
   "metadata": {},
   "outputs": [
    {
     "data": {
      "image/png": "[encoded data removed]",
      "text/latex": [
       "$$x^{2} y^{3} + y^{2} + 3$$"
      ],
      "text/plain": [
       " 2  3    2    \n",
       "x ⋅y  + y  + 3"
      ]
     },
     "execution_count": 3,
     "metadata": {},
     "output_type": "execute_result"
    }
   ],
   "source": [
    "x, y = sympy.symbols('x y')\n",
    "h = x**2*y**3 + y**2 + 3\n",
    "h"
   ]
  },
  {
   "cell_type": "code",
   "execution_count": 4,
   "metadata": {},
   "outputs": [
    {
     "name": "stdout",
     "output_type": "stream",
     "text": [
      "n is 8\n",
      "1\n",
      "Poly(-8*x**5 - 125*x**4*y - 3715/8*x**3*y**2 + 11905/64*x**2*y**3 + x**2 - 95/4*x*y**4 - 1/4*x*y + y**5 + 1/64*y**2 + 3/64, x, y, domain='QQ')\n"
     ]
    }
   ],
   "source": [
    "new_h = monic_maker(h)\n",
    "print(sympy.LC(new_h, y))\n",
    "print(new_h)"
   ]
  },
  {
   "cell_type": "code",
   "execution_count": 5,
   "metadata": {
    "collapsed": true
   },
   "outputs": [],
   "source": [
    "f = x**2 + y**2\n",
    "g = x**2 - y**2\n",
    "h = h_getter(f,g)\n",
    "h = h.simplify() # Que lo simplifique en el código"
   ]
  },
  {
   "cell_type": "code",
   "execution_count": 15,
   "metadata": {},
   "outputs": [
    {
     "name": "stdout",
     "output_type": "stream",
     "text": [
      "n is 3\n",
      "Poly(-x**4 - 8/3*x**3*y - 8/3*x*y**3 + y**4, x, y, domain='QQ')\n"
     ]
    },
    {
     "data": {
      "image/png": "[encoded data removed]",
      "text/latex": [
       "$$- \\frac{91 x^{4}}{27} - \\frac{136 y}{27} x^{3} - \\frac{8 x^{2}}{3} y^{2} + y^{4}$$"
      ],
      "text/plain": [
       "      4        3        2  2     \n",
       "  91⋅x    136⋅x ⋅y   8⋅x ⋅y     4\n",
       "- ───── - ──────── - ─────── + y \n",
       "    27       27         3        "
      ]
     },
     "execution_count": 15,
     "metadata": {},
     "output_type": "execute_result"
    }
   ],
   "source": [
    "new_h = monic_maker(h)\n",
    "print(new_h)\n",
    "new_new_h, b1 = phi_automorphism(new_h)\n",
    "new_new_h.simplify() # Change everything to sympy expressions."
   ]
  },
  {
   "cell_type": "code",
   "execution_count": 9,
   "metadata": {},
   "outputs": [
    {
     "data": {
      "text/plain": [
       "sympy.core.add.Add"
      ]
     },
     "execution_count": 9,
     "metadata": {},
     "output_type": "execute_result"
    }
   ],
   "source": [
    "type(new_new_h.as_expr())"
   ]
  },
  {
   "cell_type": "code",
   "execution_count": 10,
   "metadata": {},
   "outputs": [],
   "source": [
    "r, ur = ur_getter(new_new_h)"
   ]
  },
  {
   "cell_type": "code",
   "execution_count": 12,
   "metadata": {},
   "outputs": [
    {
     "name": "stdout",
     "output_type": "stream",
     "text": [
      "2\n",
      "2\n"
     ]
    }
   ],
   "source": [
    "print(r)\n",
    "print(ur)"
   ]
  },
  {
   "cell_type": "code",
   "execution_count": 17,
   "metadata": {},
   "outputs": [
    {
     "data": {
      "image/png": "[encoded data removed]",
      "text/latex": [
       "$$\\frac{x^{8}}{27} \\left(27 y^{4} - 72 y^{2} - 136 y - 91\\right)$$"
      ],
      "text/plain": [
       " 8 ⎛    4       2             ⎞\n",
       "x ⋅⎝27⋅y  - 72⋅y  - 136⋅y - 91⎠\n",
       "───────────────────────────────\n",
       "               27              "
      ]
     },
     "execution_count": 17,
     "metadata": {},
     "output_type": "execute_result"
    }
   ],
   "source": [
    "h_newton = newton_automorphism(new_new_h, r, ur)\n",
    "h_newton.simplify()"
   ]
  }
 ],
 "metadata": {
  "kernelspec": {
   "display_name": "Python 3",
   "language": "python",
   "name": "python3"
  },
  "language_info": {
   "codemirror_mode": {
    "name": "ipython",
    "version": 3
   },
   "file_extension": ".py",
   "mimetype": "text/x-python",
   "name": "python",
   "nbconvert_exporter": "python",
   "pygments_lexer": "ipython3",
   "version": "3.5.2"
  }
 },
 "nbformat": 4,
 "nbformat_minor": 2
}
