{
 "cells": [
  {
   "cell_type": "markdown",
   "metadata": {},
   "source": [
    "# The Algorithm"
   ]
  },
  {
   "cell_type": "code",
   "execution_count": 33,
   "metadata": {
    "collapsed": true
   },
   "outputs": [],
   "source": [
    "import sympy\n",
    "import random\n",
    "import math"
   ]
  },
  {
   "cell_type": "markdown",
   "metadata": {},
   "source": [
    "Step 1: get $h(x,y)$ from $f(x,y)$ and $g(x,y)$, remembering that $h(x,y) = x(g\\partial_xf - f\\partial_xg) - y(g\\partial_yf - g\\partial_yg)$"
   ]
  },
  {
   "cell_type": "code",
   "execution_count": 4,
   "metadata": {
    "collapsed": true
   },
   "outputs": [],
   "source": [
    "x = sympy.Symbol('x')\n",
    "y = sympy.Symbol('y')\n",
    "def hgetter(f,g):\n",
    "    return x*(g*sympy.diff(f, x) - f*sympy.diff(g, x)) + y*(g*sympy.diff(f, y) - f*sympy.diff(g, y))"
   ]
  },
  {
   "cell_type": "code",
   "execution_count": 5,
   "metadata": {
    "collapsed": true
   },
   "outputs": [],
   "source": [
    "f = sympy.Poly('x**2 + 2*x*y + y**2')\n",
    "g = sympy.Poly('x**3 + y')"
   ]
  },
  {
   "cell_type": "code",
   "execution_count": 6,
   "metadata": {
    "collapsed": false
   },
   "outputs": [
    {
     "name": "stdout",
     "output_type": "stream",
     "text": [
      "x*Poly(-x**4 - 4*x**3*y - 3*x**2*y**2 + 2*x*y + 2*y**2, x, y, domain='ZZ') + y*Poly(2*x**4 + 2*x**3*y - x**2 + y**2, x, y, domain='ZZ')\n"
     ]
    }
   ],
   "source": [
    "h = hgetter(f,g)\n",
    "print(h)"
   ]
  },
  {
   "cell_type": "code",
   "execution_count": 24,
   "metadata": {
    "collapsed": false
   },
   "outputs": [],
   "source": [
    "def monicMaker(h):\n",
    "    '''\n",
    "    This function peforms a rotation on a polynomial of two variables\n",
    "    h(x,y). That is, it maps h(x,y) to h(x+ny, -nx + y)) for some n\n",
    "    such that the resulting polynomial is monic in y.\n",
    "    '''\n",
    "    new_h = h\n",
    "    while sympy.LC(new_h, y) not in sympy.CC:\n",
    "        n = random.randint(1,10)\n",
    "        new_h = h.as_expr().subs([(x, x + n*y), (y, -n*x + y)])\n",
    "    new_h = new_h * (1/sympy.LC(new_h, y))\n",
    "    return new_h.as_poly()"
   ]
  },
  {
   "cell_type": "code",
   "execution_count": 25,
   "metadata": {
    "collapsed": false
   },
   "outputs": [
    {
     "name": "stdout",
     "output_type": "stream",
     "text": [
      "Poly(576*x**4 - 2352/5*x**3*y + 3601/25*x**2*y**2 + 48/5*x**2 - 98/5*x*y**3 - 98/25*x*y + y**4 + 2/5*y**2 + 4/25, x, y, domain='QQ')\n",
      "True\n"
     ]
    }
   ],
   "source": [
    "h = sympy.Poly(x**2*y**2 + 2*x*y + 4, x, y)\n",
    "print(monicMaker(h))\n",
    "print(sympy.LC(monicMaker(h), y) == 1)"
   ]
  },
  {
   "cell_type": "code",
   "execution_count": 67,
   "metadata": {
    "collapsed": true
   },
   "outputs": [],
   "source": [
    "def newtonAutomorphism(h, q, p):\n",
    "    '''\n",
    "    This function performs the Newton Automorphism (x maps to x ** q\n",
    "    and y maps to y(x ** p)) to a polynomial h, returning a sympy expr\n",
    "    (not a polynomial). Here, p and q are expected to be rational\n",
    "    numbers.\n",
    "    '''\n",
    "    return h.as_expr().subs([(x, x ** q), (y, y*x**p)])"
   ]
  },
  {
   "cell_type": "code",
   "execution_count": 38,
   "metadata": {
    "collapsed": false
   },
   "outputs": [
    {
     "name": "stdout",
     "output_type": "stream",
     "text": [
      "Poly(x**2*y**2 + 2*x*y + 4, x, y, domain='ZZ')\n"
     ]
    }
   ],
   "source": [
    "newtonAutomorphism(h, 1/2, 1)\n",
    "print(h)"
   ]
  },
  {
   "cell_type": "code",
   "execution_count": 63,
   "metadata": {
    "collapsed": true
   },
   "outputs": [],
   "source": [
    "def componentsOfy(F):\n",
    "    '''\n",
    "    This function returns a list with the homogenous\n",
    "    components of h as a polynomial in y in increasing order.\n",
    "    '''\n",
    "    x = sympy.Symbol('x')\n",
    "    y = sympy.Symbol('y')\n",
    "    list_of_Fprimes = [F]\n",
    "    list_of_fs = [F.eval(y, 0)]\n",
    "    for j in range(1, sympy.degree(F, y)+1):\n",
    "        nextFprime = sympy.diff(list_of_Fprimes[j-1], y)\n",
    "        list_of_Fprimes.append(nextFprime)\n",
    "        list_of_fs.append((1/math.factorial(j))*nextFprime.eval(y, 0).as_poly(x))\n",
    "    return list_of_fs\n",
    "\n",
    "def phiAutomorphism(h):\n",
    "    '''\n",
    "    This function performs the phi automorphism to a polynomial that's monic in y,\n",
    "    so that the term that's with degree(h, y) - 1 banishes.\n",
    "    '''\n",
    "    x = sympy.Symbol('x')\n",
    "    y = sympy.Symbol('y')\n",
    "    list_of_bs = componentsOfy(h)\n",
    "    b1 = list_of_bs[-2]\n",
    "    return h.as_expr().subs([(y, y-b1/sympy.degree(h, y))]).as_poly(x,y)"
   ]
  },
  {
   "cell_type": "code",
   "execution_count": 66,
   "metadata": {
    "collapsed": false
   },
   "outputs": [
    {
     "name": "stdout",
     "output_type": "stream",
     "text": [
      "Poly(3969*x**4 - 8001/4*x**3*y + 24193/64*x**2*y**2 + 63/4*x**2 - 127/4*x*y**3 - 127/32*x*y + y**4 + 1/4*y**2 + 1/16, x, y, domain='QQ')\n"
     ]
    },
    {
     "data": {
      "text/plain": [
       "Poly(1.52587890625e-5*x**4 - 0.0078125*x**2*y**2 - 0.0009765625*x**2 + 1.0*y**4 + 0.25*y**2 + 0.0625, x, y, domain='RR')"
      ]
     },
     "execution_count": 66,
     "metadata": {},
     "output_type": "execute_result"
    }
   ],
   "source": [
    "monic_h = monicMaker(h)\n",
    "# print(componentsOfy(monic_h))\n",
    "print(monic_h)\n",
    "phiAutomorphism(monic_h)"
   ]
  }
 ],
 "metadata": {
  "kernelspec": {
   "display_name": "Python 3",
   "language": "python",
   "name": "python3"
  },
  "language_info": {
   "codemirror_mode": {
    "name": "ipython",
    "version": 3
   },
   "file_extension": ".py",
   "mimetype": "text/x-python",
   "name": "python",
   "nbconvert_exporter": "python",
   "pygments_lexer": "ipython3",
   "version": "3.4.3"
  }
 },
 "nbformat": 4,
 "nbformat_minor": 1
}
