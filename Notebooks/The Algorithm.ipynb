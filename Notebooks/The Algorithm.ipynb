{
 "cells": [
  {
   "cell_type": "markdown",
   "metadata": {},
   "source": [
    "# The Algorithm"
   ]
  },
  {
   "cell_type": "code",
   "execution_count": 1,
   "metadata": {
    "collapsed": true
   },
   "outputs": [],
   "source": [
    "import sympy\n",
    "import random\n",
    "import math"
   ]
  },
  {
   "cell_type": "markdown",
   "metadata": {},
   "source": [
    "Step 1: get $h(x,y)$ from $f(x,y)$ and $g(x,y)$, remembering that $h(x,y) = x(g\\partial_xf - f\\partial_xg) - y(g\\partial_yf - g\\partial_yg)$"
   ]
  },
  {
   "cell_type": "code",
   "execution_count": 2,
   "metadata": {
    "collapsed": true
   },
   "outputs": [],
   "source": [
    "x = sympy.Symbol('x')\n",
    "y = sympy.Symbol('y')\n",
    "def hgetter(f,g):\n",
    "    return x.as_poly()*(g*sympy.diff(f, x) - f*sympy.diff(g, x)) - y.as_poly()*(g*sympy.diff(f, y) - f*sympy.diff(g, y))"
   ]
  },
  {
   "cell_type": "code",
   "execution_count": 3,
   "metadata": {
    "collapsed": true
   },
   "outputs": [],
   "source": [
    "f = sympy.Poly('x**2 + 2*x*y + y**2')\n",
    "g = sympy.Poly('x**3 + y')"
   ]
  },
  {
   "cell_type": "code",
   "execution_count": 37,
   "metadata": {},
   "outputs": [
    {
     "name": "stdout",
     "output_type": "stream",
     "text": [
      "Poly(x**(1/3)**2 + y**(1/3), x**(1/3), y**(1/3), domain='ZZ')\n"
     ]
    }
   ],
   "source": [
    "p = sympy.Poly('x**(2/3) + y**(1/3)')\n",
    "print(p)"
   ]
  },
  {
   "cell_type": "code",
   "execution_count": 42,
   "metadata": {},
   "outputs": [
    {
     "data": {
      "text/plain": [
       "['EC',\n",
       " 'EM',\n",
       " 'ET',\n",
       " 'LC',\n",
       " 'LM',\n",
       " 'LT',\n",
       " 'TC',\n",
       " '__abs__',\n",
       " '__add__',\n",
       " '__bool__',\n",
       " '__call__',\n",
       " '__class__',\n",
       " '__complex__',\n",
       " '__delattr__',\n",
       " '__dir__',\n",
       " '__div__',\n",
       " '__divmod__',\n",
       " '__doc__',\n",
       " '__eq__',\n",
       " '__float__',\n",
       " '__floordiv__',\n",
       " '__format__',\n",
       " '__ge__',\n",
       " '__getattribute__',\n",
       " '__getnewargs__',\n",
       " '__getstate__',\n",
       " '__gt__',\n",
       " '__hash__',\n",
       " '__init__',\n",
       " '__int__',\n",
       " '__le__',\n",
       " '__long__',\n",
       " '__lt__',\n",
       " '__mod__',\n",
       " '__module__',\n",
       " '__mul__',\n",
       " '__ne__',\n",
       " '__neg__',\n",
       " '__new__',\n",
       " '__nonzero__',\n",
       " '__pos__',\n",
       " '__pow__',\n",
       " '__radd__',\n",
       " '__rdiv__',\n",
       " '__rdivmod__',\n",
       " '__reduce__',\n",
       " '__reduce_ex__',\n",
       " '__repr__',\n",
       " '__rfloordiv__',\n",
       " '__rmod__',\n",
       " '__rmul__',\n",
       " '__rpow__',\n",
       " '__rsub__',\n",
       " '__rtruediv__',\n",
       " '__setattr__',\n",
       " '__setstate__',\n",
       " '__sizeof__',\n",
       " '__slots__',\n",
       " '__str__',\n",
       " '__sub__',\n",
       " '__subclasshook__',\n",
       " '__truediv__',\n",
       " '_args',\n",
       " '_assumptions',\n",
       " '_compare_pretty',\n",
       " '_diff_wrt',\n",
       " '_eval_adjoint',\n",
       " '_eval_as_leading_term',\n",
       " '_eval_conjugate',\n",
       " '_eval_derivative',\n",
       " '_eval_diff',\n",
       " '_eval_evalf',\n",
       " '_eval_expand_complex',\n",
       " '_eval_interval',\n",
       " '_eval_is_algebraic_expr',\n",
       " '_eval_is_negative',\n",
       " '_eval_is_polynomial',\n",
       " '_eval_is_positive',\n",
       " '_eval_is_rational_function',\n",
       " '_eval_lseries',\n",
       " '_eval_nseries',\n",
       " '_eval_power',\n",
       " '_eval_rewrite',\n",
       " '_eval_subs',\n",
       " '_eval_transpose',\n",
       " '_evalf',\n",
       " '_expand_hint',\n",
       " '_explicit_class_assumptions',\n",
       " '_from_dict',\n",
       " '_from_expr',\n",
       " '_from_list',\n",
       " '_from_mpmath',\n",
       " '_from_poly',\n",
       " '_gen_to_level',\n",
       " '_has',\n",
       " '_has_matcher',\n",
       " '_hashable_content',\n",
       " '_mhash',\n",
       " '_op_priority',\n",
       " '_parse_order',\n",
       " '_prop_handler',\n",
       " '_random',\n",
       " '_recursive_call',\n",
       " '_sorted_args',\n",
       " '_strict_eq',\n",
       " '_subs',\n",
       " '_to_mpmath',\n",
       " '_unify',\n",
       " '_xreplace',\n",
       " 'abs',\n",
       " 'add',\n",
       " 'add_ground',\n",
       " 'adjoint',\n",
       " 'all_coeffs',\n",
       " 'all_monoms',\n",
       " 'all_roots',\n",
       " 'all_terms',\n",
       " 'apart',\n",
       " 'args',\n",
       " 'args_cnc',\n",
       " 'as_base_exp',\n",
       " 'as_coeff_Add',\n",
       " 'as_coeff_Mul',\n",
       " 'as_coeff_add',\n",
       " 'as_coeff_exponent',\n",
       " 'as_coeff_mul',\n",
       " 'as_coefficient',\n",
       " 'as_coefficients_dict',\n",
       " 'as_content_primitive',\n",
       " 'as_dict',\n",
       " 'as_expr',\n",
       " 'as_independent',\n",
       " 'as_leading_term',\n",
       " 'as_list',\n",
       " 'as_numer_denom',\n",
       " 'as_ordered_factors',\n",
       " 'as_ordered_terms',\n",
       " 'as_poly',\n",
       " 'as_powers_dict',\n",
       " 'as_real_imag',\n",
       " 'as_terms',\n",
       " 'assumptions0',\n",
       " 'atoms',\n",
       " 'cancel',\n",
       " 'canonical_variables',\n",
       " 'class_key',\n",
       " 'clear_denoms',\n",
       " 'coeff',\n",
       " 'coeff_monomial',\n",
       " 'coeffs',\n",
       " 'cofactors',\n",
       " 'collect',\n",
       " 'combsimp',\n",
       " 'compare',\n",
       " 'compose',\n",
       " 'compute_leading_term',\n",
       " 'conjugate',\n",
       " 'content',\n",
       " 'copy',\n",
       " 'could_extract_minus_sign',\n",
       " 'count',\n",
       " 'count_ops',\n",
       " 'count_roots',\n",
       " 'decompose',\n",
       " 'default_assumptions',\n",
       " 'deflate',\n",
       " 'degree',\n",
       " 'degree_list',\n",
       " 'diff',\n",
       " 'discriminant',\n",
       " 'dispersion',\n",
       " 'dispersionset',\n",
       " 'div',\n",
       " 'doit',\n",
       " 'domain',\n",
       " 'dummy_eq',\n",
       " 'eject',\n",
       " 'eq',\n",
       " 'equals',\n",
       " 'eval',\n",
       " 'evalf',\n",
       " 'exclude',\n",
       " 'expand',\n",
       " 'exquo',\n",
       " 'exquo_ground',\n",
       " 'extract_additively',\n",
       " 'extract_branch_factor',\n",
       " 'extract_multiplicatively',\n",
       " 'factor',\n",
       " 'factor_list',\n",
       " 'factor_list_include',\n",
       " 'find',\n",
       " 'fourier_series',\n",
       " 'fps',\n",
       " 'free_symbols',\n",
       " 'free_symbols_in_domain',\n",
       " 'from_dict',\n",
       " 'from_expr',\n",
       " 'from_list',\n",
       " 'from_poly',\n",
       " 'fromiter',\n",
       " 'func',\n",
       " 'gcd',\n",
       " 'gcdex',\n",
       " 'gen',\n",
       " 'gens',\n",
       " 'getO',\n",
       " 'get_domain',\n",
       " 'get_modulus',\n",
       " 'getn',\n",
       " 'gff_list',\n",
       " 'ground_roots',\n",
       " 'half_gcdex',\n",
       " 'has',\n",
       " 'has_only_gens',\n",
       " 'homogeneous_order',\n",
       " 'homogenize',\n",
       " 'inject',\n",
       " 'integrate',\n",
       " 'intervals',\n",
       " 'invert',\n",
       " 'is_Add',\n",
       " 'is_AlgebraicNumber',\n",
       " 'is_Atom',\n",
       " 'is_Boolean',\n",
       " 'is_Derivative',\n",
       " 'is_Dummy',\n",
       " 'is_Equality',\n",
       " 'is_Float',\n",
       " 'is_Function',\n",
       " 'is_Integer',\n",
       " 'is_Matrix',\n",
       " 'is_Mul',\n",
       " 'is_Not',\n",
       " 'is_Number',\n",
       " 'is_NumberSymbol',\n",
       " 'is_Order',\n",
       " 'is_Piecewise',\n",
       " 'is_Point',\n",
       " 'is_Poly',\n",
       " 'is_Pow',\n",
       " 'is_Rational',\n",
       " 'is_Relational',\n",
       " 'is_Symbol',\n",
       " 'is_Vector',\n",
       " 'is_Wild',\n",
       " 'is_algebraic',\n",
       " 'is_algebraic_expr',\n",
       " 'is_antihermitian',\n",
       " 'is_commutative',\n",
       " 'is_comparable',\n",
       " 'is_complex',\n",
       " 'is_composite',\n",
       " 'is_constant',\n",
       " 'is_cyclotomic',\n",
       " 'is_even',\n",
       " 'is_finite',\n",
       " 'is_ground',\n",
       " 'is_hermitian',\n",
       " 'is_homogeneous',\n",
       " 'is_hypergeometric',\n",
       " 'is_imaginary',\n",
       " 'is_infinite',\n",
       " 'is_integer',\n",
       " 'is_irrational',\n",
       " 'is_irreducible',\n",
       " 'is_linear',\n",
       " 'is_monic',\n",
       " 'is_monomial',\n",
       " 'is_multivariate',\n",
       " 'is_negative',\n",
       " 'is_noninteger',\n",
       " 'is_nonnegative',\n",
       " 'is_nonpositive',\n",
       " 'is_nonzero',\n",
       " 'is_number',\n",
       " 'is_odd',\n",
       " 'is_one',\n",
       " 'is_polar',\n",
       " 'is_polynomial',\n",
       " 'is_positive',\n",
       " 'is_prime',\n",
       " 'is_primitive',\n",
       " 'is_quadratic',\n",
       " 'is_rational',\n",
       " 'is_rational_function',\n",
       " 'is_real',\n",
       " 'is_sqf',\n",
       " 'is_transcendental',\n",
       " 'is_univariate',\n",
       " 'is_zero',\n",
       " 'l1_norm',\n",
       " 'lcm',\n",
       " 'leadterm',\n",
       " 'length',\n",
       " 'lift',\n",
       " 'limit',\n",
       " 'lseries',\n",
       " 'ltrim',\n",
       " 'match',\n",
       " 'matches',\n",
       " 'max_norm',\n",
       " 'monic',\n",
       " 'monoms',\n",
       " 'mul',\n",
       " 'mul_ground',\n",
       " 'n',\n",
       " 'ne',\n",
       " 'neg',\n",
       " 'new',\n",
       " 'normal',\n",
       " 'nroots',\n",
       " 'nseries',\n",
       " 'nsimplify',\n",
       " 'nth',\n",
       " 'nth_power_roots_poly',\n",
       " 'one',\n",
       " 'pdiv',\n",
       " 'per',\n",
       " 'pexquo',\n",
       " 'pow',\n",
       " 'powsimp',\n",
       " 'pquo',\n",
       " 'prem',\n",
       " 'primitive',\n",
       " 'quo',\n",
       " 'quo_ground',\n",
       " 'radsimp',\n",
       " 'rat_clear_denoms',\n",
       " 'ratsimp',\n",
       " 'rcall',\n",
       " 'real_roots',\n",
       " 'refine',\n",
       " 'refine_root',\n",
       " 'rem',\n",
       " 'removeO',\n",
       " 'reorder',\n",
       " 'rep',\n",
       " 'replace',\n",
       " 'resultant',\n",
       " 'retract',\n",
       " 'revert',\n",
       " 'rewrite',\n",
       " 'root',\n",
       " 'round',\n",
       " 'separate',\n",
       " 'series',\n",
       " 'set_domain',\n",
       " 'set_modulus',\n",
       " 'shift',\n",
       " 'simplify',\n",
       " 'slice',\n",
       " 'sort_key',\n",
       " 'sqf_list',\n",
       " 'sqf_list_include',\n",
       " 'sqf_norm',\n",
       " 'sqf_part',\n",
       " 'sqr',\n",
       " 'sturm',\n",
       " 'sub',\n",
       " 'sub_ground',\n",
       " 'subresultants',\n",
       " 'subs',\n",
       " 'taylor_term',\n",
       " 'terms',\n",
       " 'terms_gcd',\n",
       " 'termwise',\n",
       " 'to_exact',\n",
       " 'to_field',\n",
       " 'to_ring',\n",
       " 'together',\n",
       " 'total_degree',\n",
       " 'transpose',\n",
       " 'trigsimp',\n",
       " 'trunc',\n",
       " 'unify',\n",
       " 'unit',\n",
       " 'xreplace',\n",
       " 'zero']"
      ]
     },
     "execution_count": 42,
     "metadata": {},
     "output_type": "execute_result"
    }
   ],
   "source": [
    "dir(p)"
   ]
  },
  {
   "cell_type": "code",
   "execution_count": 4,
   "metadata": {},
   "outputs": [
    {
     "name": "stdout",
     "output_type": "stream",
     "text": [
      "Poly(-x**5 - 6*x**4*y - 5*x**3*y**2 + 3*x**2*y + 2*x*y**2 - y**3, x, y, domain='ZZ')\n"
     ]
    }
   ],
   "source": [
    "h = hgetter(f,g)\n",
    "print(h)"
   ]
  },
  {
   "cell_type": "markdown",
   "metadata": {},
   "source": [
    "Auxiliar functions"
   ]
  },
  {
   "cell_type": "code",
   "execution_count": 5,
   "metadata": {
    "collapsed": true
   },
   "outputs": [],
   "source": [
    "def monicMaker(h):\n",
    "    '''\n",
    "    This function peforms a rotation on a polynomial of two variables\n",
    "    h(x,y). That is, it maps h(x,y) to h(x+ny, -nx + y)) for some n\n",
    "    such that the resulting polynomial is monic in y.\n",
    "    \n",
    "    TO-DO:\n",
    "        - implement a smarter choosing of n, perhaps considering the\n",
    "          roots of the polynomial.\n",
    "    '''\n",
    "    new_h = h\n",
    "    while sympy.LC(new_h, y) not in sympy.CC:\n",
    "        n = random.randint(1,10)\n",
    "        new_h = h.as_expr().subs([(x, x + n*y), (y, -n*x + y)], simultaneous=True)\n",
    "    new_h = new_h * (1/sympy.LC(new_h, y))\n",
    "    return new_h.as_poly()"
   ]
  },
  {
   "cell_type": "code",
   "execution_count": 6,
   "metadata": {},
   "outputs": [
    {
     "name": "stdout",
     "output_type": "stream",
     "text": [
      "Poly(x**4 + 15/2*x**3*y + 193/16*x**2*y**2 - 1/2*x**2 - 15/2*x*y**3 - 15/8*x*y + y**4 + 1/2*y**2 + 1/4, x, y, domain='QQ')\n",
      "True\n"
     ]
    }
   ],
   "source": [
    "h = sympy.Poly(x**2*y**2 + 2*x*y + 4, x, y)\n",
    "print(monicMaker(h))\n",
    "print(sympy.LC(monicMaker(h), y) == 1)"
   ]
  },
  {
   "cell_type": "code",
   "execution_count": 7,
   "metadata": {
    "collapsed": true
   },
   "outputs": [],
   "source": [
    "def newtonAutomorphism(h, q, p):\n",
    "    '''\n",
    "    This function performs the Newton Automorphism (x maps to x ** q\n",
    "    and y maps to y(x ** p)) to a polynomial h, returning a sympy expr\n",
    "    (not a polynomial). Here, p and q are expected to be rational\n",
    "    numbers.\n",
    "    '''\n",
    "    return h.as_expr().subs([(x, x ** q), (y, y*x**p)], simultaneous=True)"
   ]
  },
  {
   "cell_type": "code",
   "execution_count": 8,
   "metadata": {},
   "outputs": [
    {
     "name": "stdout",
     "output_type": "stream",
     "text": [
      "Poly(x**2*y**2 + 2*x*y + 4, x, y, domain='ZZ')\n"
     ]
    }
   ],
   "source": [
    "newtonAutomorphism(h, 1/2, 1)\n",
    "print(h)"
   ]
  },
  {
   "cell_type": "code",
   "execution_count": 45,
   "metadata": {},
   "outputs": [],
   "source": [
    "def componentsOfy(F):\n",
    "    '''\n",
    "    This function returns a list with the homogenous\n",
    "    components of h as a polynomial in y in increasing order.\n",
    "    '''\n",
    "    x = sympy.Symbol('x')\n",
    "    y = sympy.Symbol('y')\n",
    "    list_of_Fprimes = [F]\n",
    "    list_of_fs = [F.eval(y, 0)]\n",
    "    for j in range(1, sympy.degree(F, y)+1):\n",
    "        nextFprime = sympy.diff(list_of_Fprimes[j-1], y)\n",
    "        list_of_Fprimes.append(nextFprime)\n",
    "        list_of_fs.append((1/math.factorial(j))*nextFprime.eval(y, 0).as_poly(x))\n",
    "    return list_of_fs\n",
    "\n",
    "def componentsOfx(F):\n",
    "    '''\n",
    "    This function returns a list with the homogenous\n",
    "    components of h as a polynomial in y in increasing order.\n",
    "    '''\n",
    "    x = sympy.Symbol('x')\n",
    "    y = sympy.Symbol('y')\n",
    "    list_of_Fprimes = [F]\n",
    "    list_of_fs = [F.eval(x, 0)]\n",
    "    for j in range(1, sympy.degree(F, x)+1):\n",
    "        nextFprime = sympy.diff(list_of_Fprimes[j-1], x)\n",
    "        list_of_Fprimes.append(nextFprime)\n",
    "        list_of_fs.append((1/math.factorial(j))*nextFprime.eval(x, 0).as_poly(y))\n",
    "    return list_of_fs\n",
    "\n",
    "def phiAutomorphism(h):\n",
    "    '''\n",
    "    This function performs the phi automorphism to a polynomial that's monic in y,\n",
    "    so that the term that's with degree(h, y) - 1 banishes. Also returns the \n",
    "    term that was substracted for the construction of the inverse.\n",
    "    '''\n",
    "    x = sympy.Symbol('x')\n",
    "    y = sympy.Symbol('y')\n",
    "    list_of_bs = componentsOfy(h)\n",
    "    b1 = list_of_bs[-2]\n",
    "    #print(sympy.degree(h, y))\n",
    "    #print(h)\n",
    "    #print(list_of_bs)\n",
    "    return substituteInPoly(h, [(y, y- (1/sympy.degree(h, y))*b1.as_expr())]), b1"
   ]
  },
  {
   "cell_type": "code",
   "execution_count": 29,
   "metadata": {
    "collapsed": true
   },
   "outputs": [],
   "source": [
    "def substituteInPoly(poly, list_of_subs):\n",
    "    return poly.as_expr().subs(list_of_subs, simultaneous=True).as_poly()"
   ]
  },
  {
   "cell_type": "code",
   "execution_count": 12,
   "metadata": {
    "collapsed": true
   },
   "outputs": [],
   "source": [
    "def leastDegreeInx(b):\n",
    "    x = sympy.Symbol('x')\n",
    "    y = sympy.Symbol('y')\n",
    "    k = 0\n",
    "    while(sympy.simplify(b/x**k).subs(x, 0) == 0):\n",
    "        k += 1\n",
    "    return k"
   ]
  },
  {
   "cell_type": "code",
   "execution_count": 13,
   "metadata": {
    "collapsed": true
   },
   "outputs": [],
   "source": [
    "def urgetter(h):\n",
    "    '''\n",
    "    Given a polynomial \n",
    "        h(x,y) = y ** d + b_2(x)y**(d-2) + ... + b_d(x)\n",
    "    this function returns the tuple r, u_r where u_r is the\n",
    "    degree of b_r such that u_r/r is minimal.\n",
    "    '''\n",
    "    list_of_bs = componentsOfy(h)\n",
    "    list_of_bs = list_of_bs[::-1] # To follow the convention of the proof.\n",
    "    list_of_least_degrees = [leastDegreeInx(b) for b in list_of_bs[2:]] #Here, position 0 is really from b2.\n",
    "    list_of_quotients = [k/(i+2) for (i, k) in enumerate(list_of_least_degrees)]\n",
    "    r_indexer = list_of_quotients.index(min(list_of_quotients))\n",
    "    return r_indexer + 2, list_of_least_degrees[r_indexer]"
   ]
  },
  {
   "cell_type": "markdown",
   "metadata": {},
   "source": [
    "## Testing"
   ]
  },
  {
   "cell_type": "code",
   "execution_count": 14,
   "metadata": {
    "collapsed": true
   },
   "outputs": [],
   "source": [
    "x = sympy.Symbol('x')\n",
    "y = sympy.Symbol('y')"
   ]
  },
  {
   "cell_type": "code",
   "execution_count": 31,
   "metadata": {},
   "outputs": [
    {
     "name": "stdout",
     "output_type": "stream",
     "text": [
      "Poly(2*x*y, x, y, domain='ZZ')\n",
      "True\n"
     ]
    }
   ],
   "source": [
    "f = sympy.Poly(x, x, y)\n",
    "g = sympy.Poly(y, x, y)\n",
    "\n",
    "h= hgetter(f,g)\n",
    "print(h)\n",
    "print(h == 2*x*y)"
   ]
  },
  {
   "cell_type": "code",
   "execution_count": 34,
   "metadata": {},
   "outputs": [
    {
     "name": "stdout",
     "output_type": "stream",
     "text": [
      "Poly(2*x*y, x, y, domain='ZZ')\n"
     ]
    }
   ],
   "source": [
    "print(substituteInPoly(h, [(x, y), (y, x)]))"
   ]
  },
  {
   "cell_type": "code",
   "execution_count": 16,
   "metadata": {},
   "outputs": [
    {
     "name": "stdout",
     "output_type": "stream",
     "text": [
      "Poly(4*x**4*y - 2*x**2*y**3 + 2*y**5, x, y, domain='ZZ')\n"
     ]
    }
   ],
   "source": [
    "f = sympy.Poly(x**2 + y**2)\n",
    "g = sympy.Poly(2*y**3 + 4*x**2*y)\n",
    "\n",
    "h= hgetter(f,g)\n",
    "print(h)"
   ]
  },
  {
   "cell_type": "markdown",
   "metadata": {},
   "source": [
    "hgetter is working perfectly"
   ]
  },
  {
   "cell_type": "code",
   "execution_count": 17,
   "metadata": {},
   "outputs": [
    {
     "data": {
      "text/plain": [
       "Poly(-x**2 - 35/6*x*y + y**2, x, y, domain='QQ')"
      ]
     },
     "execution_count": 17,
     "metadata": {},
     "output_type": "execute_result"
    }
   ],
   "source": [
    "h = sympy.Poly(2*x*y)\n",
    "monicMaker(h)"
   ]
  },
  {
   "cell_type": "markdown",
   "metadata": {},
   "source": [
    "monicMaker too, let's try the automorphisms"
   ]
  },
  {
   "cell_type": "code",
   "execution_count": 18,
   "metadata": {},
   "outputs": [
    {
     "name": "stdout",
     "output_type": "stream",
     "text": [
      "Poly(-x**2 + y**2, x, y, domain='ZZ')\n",
      "Poly(y**2 - x**2, y, domain='ZZ[x]')\n"
     ]
    },
    {
     "data": {
      "text/plain": [
       "1"
      ]
     },
     "execution_count": 18,
     "metadata": {},
     "output_type": "execute_result"
    }
   ],
   "source": [
    "h1 = monicMaker(h)\n",
    "print(h1)\n",
    "print(h1.as_poly(y))\n",
    "h1.as_poly(y).LC()"
   ]
  },
  {
   "cell_type": "markdown",
   "metadata": {},
   "source": [
    "phi is working well too. Let's try Newton's."
   ]
  },
  {
   "cell_type": "code",
   "execution_count": 19,
   "metadata": {},
   "outputs": [
    {
     "data": {
      "text/plain": [
       "2*x**(5/6)*y"
      ]
     },
     "execution_count": 19,
     "metadata": {},
     "output_type": "execute_result"
    }
   ],
   "source": [
    "h = sympy.Poly(2*x*y)\n",
    "newtonAutomorphism(h, sympy.Rational(1,2), sympy.Rational(1,3))"
   ]
  },
  {
   "cell_type": "markdown",
   "metadata": {},
   "source": [
    "also working well, we need to be wary of the way rationals are entered."
   ]
  },
  {
   "cell_type": "code",
   "execution_count": 46,
   "metadata": {},
   "outputs": [
    {
     "name": "stdout",
     "output_type": "stream",
     "text": [
      "Poly(1.73472347597681e-18*x**4*y - 4.33680868994202e-19*x**4 + 2.71050543121376e-20*x**3 - 2.77555756156289e-17*x**2*y**3 + 0.148747545665497*x**2*y**2 - 0.00260199788336145*x**2*y + 1.13789994899189e-5*x**2 + 1.11022302462516e-16*x*y**4 - 0.333194502290712*x*y**3 + 0.00874271288809449*x*y**2 - 0.00305141778988219*x*y - 0.000398750073281879*x + 1.0*y**5 + 6.93889390390723e-18*y**4 - 0.000764987377708268*y**3 + 0.000429874831263535*y**2 + 5.21256433395786e-5*y - 4.88333641416651e-7, x, y, domain='RR') Poly(0.714285714285714*x + 0.043731778425656, x, domain='RR')\n",
      "Poly(1.73472347597681e-18*x**4*y - 4.33680868994202e-19*x**4 + 2.71050543121376e-20*x**3 - 2.77555756156289e-17*x**2*y**3 + 0.148747545665497*x**2*y**2 - 0.00260199788336145*x**2*y + 1.13789994899189e-5*x**2 + 1.11022302462516e-16*x*y**4 - 0.333194502290712*x*y**3 + 0.00874271288809449*x*y**2 - 0.00305141778988219*x*y - 0.000398750073281879*x + 1.0*y**5 + 6.93889390390723e-18*y**4 - 0.000764987377708268*y**3 + 0.000429874831263535*y**2 + 5.21256433395786e-5*y - 4.88333641416651e-7, x, y, domain='RR')\n",
      "[Poly(-4.33680868994202e-19*x**4 + 2.71050543121376e-20*x**3 + 1.13789994899189e-5*x**2 - 0.000398750073281879*x - 4.88333641416651e-7, x, domain='RR'), Poly(1.73472347597681e-18*x**4 - 0.00260199788336145*x**2 - 0.00305141778988219*x + 5.21256433395786e-5, x, domain='RR'), Poly(0.148747545665497*x**2 + 0.00874271288809449*x + 0.000429874831263535, x, domain='RR'), Poly(-2.77555756156289e-17*x**2 - 0.333194502290712*x - 0.000764987377708268, x, domain='RR'), Poly(1.11022302462516e-16*x + 6.93889390390723e-18, x, domain='RR'), Poly(1.0, x, domain='RR')]\n",
      "2 0\n"
     ]
    }
   ],
   "source": [
    "h = sympy.Poly(x**2*y**2 + (2*x**3 + x + 1)*y + x**5)\n",
    "monic_h = monicMaker(h)\n",
    "# print(componentsOfy(monic_h))\n",
    "# print(monic_h)\n",
    "modified_h, inverser = phiAutomorphism(monic_h)\n",
    "print(modified_h, inverser)\n",
    "print(modified_h)\n",
    "print(componentsOfy(modified_h))\n",
    "(r, ur) = urgetter(modified_h)\n",
    "print(r, ur)"
   ]
  },
  {
   "cell_type": "markdown",
   "metadata": {},
   "source": [
    "looks like urgetter is working fine too."
   ]
  },
  {
   "cell_type": "markdown",
   "metadata": {},
   "source": [
    "## Hensel's Lemma and its auxiliar functions."
   ]
  },
  {
   "cell_type": "code",
   "execution_count": 81,
   "metadata": {},
   "outputs": [
    {
     "data": {
      "text/plain": [
       "Ellipsis"
      ]
     },
     "execution_count": 81,
     "metadata": {},
     "output_type": "execute_result"
    }
   ],
   "source": [
    "..."
   ]
  },
  {
   "cell_type": "markdown",
   "metadata": {},
   "source": [
    "## The algorithm: solving limits of the form f/g with f and g polynomials in two variables"
   ]
  },
  {
   "cell_type": "code",
   "execution_count": null,
   "metadata": {
    "collapsed": true
   },
   "outputs": [],
   "source": [
    "def quotientLimit(f,g):\n",
    "    '''\n",
    "    This function finds the limit f/g as (x,y) tends to (0,0).\n",
    "    '''\n",
    "    x = sympy.Symbol('x')\n",
    "    y = sympy.Symbol('y')\n",
    "    h = hgetter(f,g)\n",
    "    h = monicMaker(h)\n",
    "    modified_h, phi_inverser = phiAutomorphism(h)\n",
    "    (r, u_r) = urgetter(modified_h)\n",
    "    modified_h = newtonAutomorphism(modified_h, r, u_r)\n",
    "    \n",
    "    d = sympy.degree(h, y)\n",
    "    \n",
    "    poly_accumulator = 1\n",
    "    F = sympy.simplify(modified_h/x**(d*u_r)).as_poly()\n",
    "    "
   ]
  }
 ],
 "metadata": {
  "kernelspec": {
   "display_name": "Python 3",
   "language": "python",
   "name": "python3"
  },
  "language_info": {
   "codemirror_mode": {
    "name": "ipython",
    "version": 3
   },
   "file_extension": ".py",
   "mimetype": "text/x-python",
   "name": "python",
   "nbconvert_exporter": "python",
   "pygments_lexer": "ipython3",
   "version": "3.5.2"
  }
 },
 "nbformat": 4,
 "nbformat_minor": 1
}
