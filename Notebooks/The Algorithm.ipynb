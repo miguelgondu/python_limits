{
 "cells": [
  {
   "cell_type": "markdown",
   "metadata": {},
   "source": [
    "# The Algorithm"
   ]
  },
  {
   "cell_type": "code",
   "execution_count": 8,
   "metadata": {
    "collapsed": true
   },
   "outputs": [],
   "source": [
    "import sympy\n",
    "import random"
   ]
  },
  {
   "cell_type": "markdown",
   "metadata": {},
   "source": [
    "Step 1: get $h(x,y)$ from $f(x,y)$ and $g(x,y)$, remembering that $h(x,y) = x(g\\partial_xf - f\\partial_xg) - y(g\\partial_yf - g\\partial_yg)$"
   ]
  },
  {
   "cell_type": "code",
   "execution_count": 2,
   "metadata": {
    "collapsed": true
   },
   "outputs": [],
   "source": [
    "x = sympy.Symbol('x')\n",
    "y = sympy.Symbol('y')\n",
    "def hgetter(f,g):\n",
    "    return x*(g*sympy.diff(f, x) - f*sympy.diff(g, x)) + y*(g*sympy.diff(f, y) - f*sympy.diff(g, y))"
   ]
  },
  {
   "cell_type": "code",
   "execution_count": 3,
   "metadata": {
    "collapsed": true
   },
   "outputs": [],
   "source": [
    "f = sympy.Poly('x**2 + 2*x*y + y**2')\n",
    "g = sympy.Poly('x**3 + y')"
   ]
  },
  {
   "cell_type": "code",
   "execution_count": 4,
   "metadata": {
    "collapsed": false
   },
   "outputs": [
    {
     "name": "stdout",
     "output_type": "stream",
     "text": [
      "x*Poly(-x**4 - 4*x**3*y - 3*x**2*y**2 + 2*x*y + 2*y**2, x, y, domain='ZZ') + y*Poly(2*x**4 + 2*x**3*y - x**2 + y**2, x, y, domain='ZZ')\n"
     ]
    }
   ],
   "source": [
    "h = hgetter(f,g)\n",
    "print(h)"
   ]
  },
  {
   "cell_type": "code",
   "execution_count": 31,
   "metadata": {
    "collapsed": false
   },
   "outputs": [],
   "source": [
    "def monicMaker(h):\n",
    "    '''\n",
    "    This function peforms a rotation on a polynomial of two variables\n",
    "    h(x,y). That is, it maps h(x,y) to h(x+ny, -nx + y)) for some n\n",
    "    such that the resulting polynomial is monic in y.\n",
    "    '''\n",
    "    new_h = h\n",
    "    counter = 0\n",
    "    while sympy.LC(new_h, y) != 1 and counter <= 10:\n",
    "        n = random.randint(1,10)\n",
    "        new_h = h.as_expr().subs([(x, x + n*y), (y, -n*x + y)]).as_poly()\n",
    "        print(str(n) + ': ' + str(new_h))\n",
    "        counter += 1\n",
    "    return new_h\n"
   ]
  },
  {
   "cell_type": "code",
   "execution_count": 30,
   "metadata": {
    "collapsed": false
   },
   "outputs": [
    {
     "name": "stdout",
     "output_type": "stream",
     "text": [
      "1: Poly(x**2*y**2 - 2*x*y**3 - 2*x*y + y**4 + 2*y**2 + 4, x, y, domain='ZZ')\n"
     ]
    },
    {
     "data": {
      "text/plain": [
       "Poly(x**2*y**2 - 2*x*y**3 - 2*x*y + y**4 + 2*y**2 + 4, x, y, domain='ZZ')"
      ]
     },
     "execution_count": 30,
     "metadata": {},
     "output_type": "execute_result"
    }
   ],
   "source": [
    "h = sympy.Poly(x**2*y**2 + 2*x*y + 4, x, y)\n",
    "monicMaker(h)"
   ]
  },
  {
   "cell_type": "code",
   "execution_count": 23,
   "metadata": {
    "collapsed": false
   },
   "outputs": [
    {
     "data": {
      "text/plain": [
       "Poly(4*x**2*y**2 + 4*x*y + 4, x, y, domain='ZZ')"
      ]
     },
     "execution_count": 23,
     "metadata": {},
     "output_type": "execute_result"
    }
   ],
   "source": [
    "h.as_expr().subs(x, 2*x).as_poly()"
   ]
  }
 ],
 "metadata": {
  "kernelspec": {
   "display_name": "Python 3",
   "language": "python",
   "name": "python3"
  },
  "language_info": {
   "codemirror_mode": {
    "name": "ipython",
    "version": 3
   },
   "file_extension": ".py",
   "mimetype": "text/x-python",
   "name": "python",
   "nbconvert_exporter": "python",
   "pygments_lexer": "ipython3",
   "version": "3.4.3"
  }
 },
 "nbformat": 4,
 "nbformat_minor": 1
}
