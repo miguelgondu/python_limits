{
 "cells": [
  {
   "cell_type": "markdown",
   "metadata": {},
   "source": [
    "# The Algorithm"
   ]
  },
  {
   "cell_type": "code",
   "execution_count": 1,
   "metadata": {
    "collapsed": true
   },
   "outputs": [],
   "source": [
    "import sympy\n",
    "import random\n",
    "import math"
   ]
  },
  {
   "cell_type": "markdown",
   "metadata": {},
   "source": [
    "Step 1: get $h(x,y)$ from $f(x,y)$ and $g(x,y)$, remembering that $h(x,y) = x(g\\partial_xf - f\\partial_xg) - y(g\\partial_yf - g\\partial_yg)$"
   ]
  },
  {
   "cell_type": "code",
   "execution_count": 22,
   "metadata": {
    "collapsed": true
   },
   "outputs": [],
   "source": [
    "x = sympy.Symbol('x')\n",
    "y = sympy.Symbol('y')\n",
    "def hgetter(f,g):\n",
    "    return x.as_poly()*(g*sympy.diff(f, x) - f*sympy.diff(g, x)) - y.as_poly()*(g*sympy.diff(f, y) - f*sympy.diff(g, y))"
   ]
  },
  {
   "cell_type": "code",
   "execution_count": 3,
   "metadata": {
    "collapsed": true
   },
   "outputs": [],
   "source": [
    "f = sympy.Poly('x**2 + 2*x*y + y**2')\n",
    "g = sympy.Poly('x**3 + y')"
   ]
  },
  {
   "cell_type": "code",
   "execution_count": 4,
   "metadata": {
    "collapsed": false
   },
   "outputs": [
    {
     "name": "stdout",
     "output_type": "stream",
     "text": [
      "x*Poly(-x**4 - 4*x**3*y - 3*x**2*y**2 + 2*x*y + 2*y**2, x, y, domain='ZZ') + y*Poly(2*x**4 + 2*x**3*y - x**2 + y**2, x, y, domain='ZZ')\n"
     ]
    }
   ],
   "source": [
    "h = hgetter(f,g)\n",
    "print(h)"
   ]
  },
  {
   "cell_type": "code",
   "execution_count": 36,
   "metadata": {
    "collapsed": false
   },
   "outputs": [],
   "source": [
    "def monicMaker(h):\n",
    "    '''\n",
    "    This function peforms a rotation on a polynomial of two variables\n",
    "    h(x,y). That is, it maps h(x,y) to h(x+ny, -nx + y)) for some n\n",
    "    such that the resulting polynomial is monic in y.\n",
    "    '''\n",
    "    new_h = h\n",
    "    while sympy.LC(new_h, y) not in sympy.CC:\n",
    "        n = random.randint(1,10)\n",
    "        # print(new_h)\n",
    "        new_h = h.as_expr().subs([(x, x + n*y), (y, -n*x + y)], simultaneous=True)\n",
    "        # print(new_h)\n",
    "        # print(str(n) + ': ' + str(new_h))\n",
    "    new_h = new_h * (1/sympy.LC(new_h, y))\n",
    "    return new_h.as_poly()"
   ]
  },
  {
   "cell_type": "code",
   "execution_count": 6,
   "metadata": {
    "collapsed": false
   },
   "outputs": [
    {
     "name": "stdout",
     "output_type": "stream",
     "text": [
      "Poly(576*x**4 - 2352/5*x**3*y + 3601/25*x**2*y**2 + 48/5*x**2 - 98/5*x*y**3 - 98/25*x*y + y**4 + 2/5*y**2 + 4/25, x, y, domain='QQ')\n",
      "True\n"
     ]
    }
   ],
   "source": [
    "h = sympy.Poly(x**2*y**2 + 2*x*y + 4, x, y)\n",
    "print(monicMaker(h))\n",
    "print(sympy.LC(monicMaker(h), y) == 1)"
   ]
  },
  {
   "cell_type": "code",
   "execution_count": 33,
   "metadata": {
    "collapsed": true
   },
   "outputs": [],
   "source": [
    "def newtonAutomorphism(h, q, p):\n",
    "    '''\n",
    "    This function performs the Newton Automorphism (x maps to x ** q\n",
    "    and y maps to y(x ** p)) to a polynomial h, returning a sympy expr\n",
    "    (not a polynomial). Here, p and q are expected to be rational\n",
    "    numbers.\n",
    "    '''\n",
    "    return h.as_expr().subs([(x, x ** q), (y, y*x**p)], simultaneous=True)"
   ]
  },
  {
   "cell_type": "code",
   "execution_count": 8,
   "metadata": {
    "collapsed": false
   },
   "outputs": [
    {
     "name": "stdout",
     "output_type": "stream",
     "text": [
      "Poly(x**2*y**2 + 2*x*y + 4, x, y, domain='ZZ')\n"
     ]
    }
   ],
   "source": [
    "newtonAutomorphism(h, 1/2, 1)\n",
    "print(h)"
   ]
  },
  {
   "cell_type": "code",
   "execution_count": 32,
   "metadata": {
    "collapsed": true
   },
   "outputs": [],
   "source": [
    "def componentsOfy(F):\n",
    "    '''\n",
    "    This function returns a list with the homogenous\n",
    "    components of h as a polynomial in y in increasing order.\n",
    "    '''\n",
    "    x = sympy.Symbol('x')\n",
    "    y = sympy.Symbol('y')\n",
    "    list_of_Fprimes = [F]\n",
    "    list_of_fs = [F.eval(y, 0)]\n",
    "    for j in range(1, sympy.degree(F, y)+1):\n",
    "        nextFprime = sympy.diff(list_of_Fprimes[j-1], y)\n",
    "        list_of_Fprimes.append(nextFprime)\n",
    "        list_of_fs.append((1/math.factorial(j))*nextFprime.eval(y, 0).as_poly(x))\n",
    "    return list_of_fs\n",
    "\n",
    "def phiAutomorphism(h):\n",
    "    '''\n",
    "    This function performs the phi automorphism to a polynomial that's monic in y,\n",
    "    so that the term that's with degree(h, y) - 1 banishes.\n",
    "    '''\n",
    "    x = sympy.Symbol('x')\n",
    "    y = sympy.Symbol('y')\n",
    "    list_of_bs = componentsOfy(h)\n",
    "    b1 = list_of_bs[-2]\n",
    "    return h.as_expr().subs([(y, y-b1/sympy.degree(h, y))], simultaenous=True).as_poly(x,y)"
   ]
  },
  {
   "cell_type": "code",
   "execution_count": 10,
   "metadata": {
    "collapsed": false
   },
   "outputs": [
    {
     "name": "stdout",
     "output_type": "stream",
     "text": [
      "Poly(x**2*y**2 - 2*x*y**3 - 2*x*y + y**4 + 2*y**2 + 4, x, y, domain='ZZ')\n"
     ]
    },
    {
     "data": {
      "text/plain": [
       "Poly(0.0625*x**4 - 0.5*x**2*y**2 - 0.5*x**2 + 1.0*y**4 + 2.0*y**2 + 4.0, x, y, domain='RR')"
      ]
     },
     "execution_count": 10,
     "metadata": {},
     "output_type": "execute_result"
    }
   ],
   "source": [
    "monic_h = monicMaker(h)\n",
    "# print(componentsOfy(monic_h))\n",
    "print(monic_h)\n",
    "phiAutomorphism(monic_h)"
   ]
  },
  {
   "cell_type": "markdown",
   "metadata": {},
   "source": [
    "## Testing"
   ]
  },
  {
   "cell_type": "code",
   "execution_count": 24,
   "metadata": {
    "collapsed": false
   },
   "outputs": [],
   "source": [
    "x = sympy.Symbol('x')\n",
    "y = sympy.Symbol('y')"
   ]
  },
  {
   "cell_type": "code",
   "execution_count": 25,
   "metadata": {
    "collapsed": false
   },
   "outputs": [
    {
     "name": "stdout",
     "output_type": "stream",
     "text": [
      "Poly(2*x*y, x, y, domain='ZZ')\n"
     ]
    }
   ],
   "source": [
    "f = sympy.Poly(x, x, y)\n",
    "g = sympy.Poly(y, x, y)\n",
    "\n",
    "h= hgetter(f,g)\n",
    "print(h)"
   ]
  },
  {
   "cell_type": "code",
   "execution_count": 26,
   "metadata": {
    "collapsed": false
   },
   "outputs": [
    {
     "name": "stdout",
     "output_type": "stream",
     "text": [
      "Poly(4*x**4*y - 2*x**2*y**3 + 2*y**5, x, y, domain='ZZ')\n"
     ]
    }
   ],
   "source": [
    "f = sympy.Poly(x**2 + y**2)\n",
    "g = sympy.Poly(2*y**3 + 4*x**2*y)\n",
    "\n",
    "h= hgetter(f,g)\n",
    "print(h)"
   ]
  },
  {
   "cell_type": "markdown",
   "metadata": {},
   "source": [
    "hgetter is working perfectly"
   ]
  },
  {
   "cell_type": "code",
   "execution_count": 37,
   "metadata": {
    "collapsed": false
   },
   "outputs": [
    {
     "name": "stdout",
     "output_type": "stream",
     "text": [
      "Poly(2*x*y, x, y, domain='ZZ')\n",
      "2*(-9*x + y)*(x + 9*y)\n",
      "9: 2*(-9*x + y)*(x + 9*y)\n"
     ]
    },
    {
     "data": {
      "text/plain": [
       "Poly(-x**2 - 80/9*x*y + y**2, x, y, domain='QQ')"
      ]
     },
     "execution_count": 37,
     "metadata": {},
     "output_type": "execute_result"
    }
   ],
   "source": [
    "h = sympy.Poly(2*x*y)\n",
    "monicMaker(h)"
   ]
  },
  {
   "cell_type": "markdown",
   "metadata": {},
   "source": [
    "monicMaker too, let's try the automorphisms"
   ]
  },
  {
   "cell_type": "code",
   "execution_count": 38,
   "metadata": {
    "collapsed": false
   },
   "outputs": [
    {
     "name": "stdout",
     "output_type": "stream",
     "text": [
      "Poly(2*x*y, x, y, domain='ZZ')\n",
      "2*(-8*x + y)*(x + 8*y)\n",
      "8: 2*(-8*x + y)*(x + 8*y)\n"
     ]
    }
   ],
   "source": [
    "h1 = monicMaker(h)"
   ]
  }
 ],
 "metadata": {
  "kernelspec": {
   "display_name": "Python 3",
   "language": "python",
   "name": "python3"
  },
  "language_info": {
   "codemirror_mode": {
    "name": "ipython",
    "version": 3
   },
   "file_extension": ".py",
   "mimetype": "text/x-python",
   "name": "python",
   "nbconvert_exporter": "python",
   "pygments_lexer": "ipython3",
   "version": "3.4.3"
  }
 },
 "nbformat": 4,
 "nbformat_minor": 1
}
