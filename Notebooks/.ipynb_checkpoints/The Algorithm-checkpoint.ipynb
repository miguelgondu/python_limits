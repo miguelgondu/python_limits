{
 "cells": [
  {
   "cell_type": "markdown",
   "metadata": {},
   "source": [
    "# The Algorithm"
   ]
  },
  {
   "cell_type": "code",
   "execution_count": 1,
   "metadata": {
    "collapsed": true
   },
   "outputs": [],
   "source": [
    "import sympy\n",
    "import random\n",
    "import math"
   ]
  },
  {
   "cell_type": "markdown",
   "metadata": {},
   "source": [
    "Step 1: get $h(x,y)$ from $f(x,y)$ and $g(x,y)$, remembering that $h(x,y) = x(g\\partial_xf - f\\partial_xg) - y(g\\partial_yf - g\\partial_yg)$"
   ]
  },
  {
   "cell_type": "code",
   "execution_count": 2,
   "metadata": {
    "collapsed": true
   },
   "outputs": [],
   "source": [
    "x = sympy.Symbol('x')\n",
    "y = sympy.Symbol('y')\n",
    "def hgetter(f,g):\n",
    "    return x.as_poly()*(g*sympy.diff(f, x) - f*sympy.diff(g, x)) - y.as_poly()*(g*sympy.diff(f, y) - f*sympy.diff(g, y))"
   ]
  },
  {
   "cell_type": "code",
   "execution_count": 3,
   "metadata": {
    "collapsed": true
   },
   "outputs": [],
   "source": [
    "f = sympy.Poly('x**2 + 2*x*y + y**2')\n",
    "g = sympy.Poly('x**3 + y')"
   ]
  },
  {
   "cell_type": "code",
   "execution_count": 4,
   "metadata": {},
   "outputs": [
    {
     "name": "stdout",
     "output_type": "stream",
     "text": [
      "Poly(-x**5 - 6*x**4*y - 5*x**3*y**2 + 3*x**2*y + 2*x*y**2 - y**3, x, y, domain='ZZ')\n"
     ]
    }
   ],
   "source": [
    "h = hgetter(f,g)\n",
    "print(h)"
   ]
  },
  {
   "cell_type": "markdown",
   "metadata": {},
   "source": [
    "Auxiliar functions"
   ]
  },
  {
   "cell_type": "code",
   "execution_count": 5,
   "metadata": {
    "collapsed": true
   },
   "outputs": [],
   "source": [
    "def monicMaker(h):\n",
    "    '''\n",
    "    This function peforms a rotation on a polynomial of two variables\n",
    "    h(x,y). That is, it maps h(x,y) to h(x+ny, -nx + y)) for some n\n",
    "    such that the resulting polynomial is monic in y.\n",
    "    \n",
    "    TO-DO:\n",
    "        - implement a smarter choosing of n, perhaps considering the\n",
    "          roots of the polynomial.\n",
    "    '''\n",
    "    new_h = h\n",
    "    while sympy.LC(new_h, y) not in sympy.CC:\n",
    "        n = random.randint(1,10)\n",
    "        new_h = h.as_expr().subs([(x, x + n*y), (y, -n*x + y)], simultaneous=True)\n",
    "    new_h = new_h * (1/sympy.LC(new_h, y))\n",
    "    return new_h.as_poly()"
   ]
  },
  {
   "cell_type": "code",
   "execution_count": 6,
   "metadata": {},
   "outputs": [
    {
     "name": "stdout",
     "output_type": "stream",
     "text": [
      "Poly(x**4 + 15/2*x**3*y + 193/16*x**2*y**2 - 1/2*x**2 - 15/2*x*y**3 - 15/8*x*y + y**4 + 1/2*y**2 + 1/4, x, y, domain='QQ')\n",
      "True\n"
     ]
    }
   ],
   "source": [
    "h = sympy.Poly(x**2*y**2 + 2*x*y + 4, x, y)\n",
    "print(monicMaker(h))\n",
    "print(sympy.LC(monicMaker(h), y) == 1)"
   ]
  },
  {
   "cell_type": "code",
   "execution_count": 7,
   "metadata": {
    "collapsed": true
   },
   "outputs": [],
   "source": [
    "def newtonAutomorphism(h, q, p):\n",
    "    '''\n",
    "    This function performs the Newton Automorphism (x maps to x ** q\n",
    "    and y maps to y(x ** p)) to a polynomial h, returning a sympy expr\n",
    "    (not a polynomial). Here, p and q are expected to be rational\n",
    "    numbers.\n",
    "    '''\n",
    "    return h.as_expr().subs([(x, x ** q), (y, y*x**p)], simultaneous=True)"
   ]
  },
  {
   "cell_type": "code",
   "execution_count": 8,
   "metadata": {},
   "outputs": [
    {
     "name": "stdout",
     "output_type": "stream",
     "text": [
      "Poly(x**2*y**2 + 2*x*y + 4, x, y, domain='ZZ')\n"
     ]
    }
   ],
   "source": [
    "newtonAutomorphism(h, 1/2, 1)\n",
    "print(h)"
   ]
  },
  {
   "cell_type": "code",
   "execution_count": 10,
   "metadata": {},
   "outputs": [
    {
     "ename": "SyntaxError",
     "evalue": "invalid syntax (<ipython-input-10-bebaf48f54c8>, line 44)",
     "output_type": "error",
     "traceback": [
      "\u001b[0;36m  File \u001b[0;32m\"<ipython-input-10-bebaf48f54c8>\"\u001b[0;36m, line \u001b[0;32m44\u001b[0m\n\u001b[0;31m    return h.as_expr().subs([(y, y-b1*sympy.Rational(sympy.degree(h, y).as_expr())], simultaenous=True).as_poly(x,y), b\u001b[0m\n\u001b[0m                                                                                  ^\u001b[0m\n\u001b[0;31mSyntaxError\u001b[0m\u001b[0;31m:\u001b[0m invalid syntax\n"
     ]
    }
   ],
   "source": [
    "def componentsOfy(F):\n",
    "    '''\n",
    "    This function returns a list with the homogenous\n",
    "    components of h as a polynomial in y in increasing order.\n",
    "    '''\n",
    "    x = sympy.Symbol('x')\n",
    "    y = sympy.Symbol('y')\n",
    "    list_of_Fprimes = [F]\n",
    "    list_of_fs = [F.eval(y, 0)]\n",
    "    for j in range(1, sympy.degree(F, y)+1):\n",
    "        nextFprime = sympy.diff(list_of_Fprimes[j-1], y)\n",
    "        list_of_Fprimes.append(nextFprime)\n",
    "        list_of_fs.append((1/math.factorial(j))*nextFprime.eval(y, 0).as_poly(x))\n",
    "    return list_of_fs\n",
    "\n",
    "def componentsOfx(F):\n",
    "    '''\n",
    "    This function returns a list with the homogenous\n",
    "    components of h as a polynomial in y in increasing order.\n",
    "    '''\n",
    "    x = sympy.Symbol('x')\n",
    "    y = sympy.Symbol('y')\n",
    "    list_of_Fprimes = [F]\n",
    "    list_of_fs = [F.eval(x, 0)]\n",
    "    for j in range(1, sympy.degree(F, x)+1):\n",
    "        nextFprime = sympy.diff(list_of_Fprimes[j-1], x)\n",
    "        list_of_Fprimes.append(nextFprime)\n",
    "        list_of_fs.append((1/math.factorial(j))*nextFprime.eval(x, 0).as_poly(y))\n",
    "    return list_of_fs\n",
    "\n",
    "def phiAutomorphism(h):\n",
    "    '''\n",
    "    This function performs the phi automorphism to a polynomial that's monic in y,\n",
    "    so that the term that's with degree(h, y) - 1 banishes. Also returns the \n",
    "    term that was substracted for the construction of the inverse.\n",
    "    '''\n",
    "    x = sympy.Symbol('x')\n",
    "    y = sympy.Symbol('y')\n",
    "    list_of_bs = componentsOfy(h)\n",
    "    b1 = list_of_bs[-2]\n",
    "    #print(sympy.degree(h, y))\n",
    "    #print(h)\n",
    "    #print(list_of_bs)\n",
    "    return h.as_expr().subs([(y, y-b1*sympy.Rational(sympy.degree(h, y)).as_expr())], simultaenous=True).as_poly(x,y), b"
   ]
  },
  {
   "cell_type": "code",
   "execution_count": 65,
   "metadata": {
    "collapsed": true
   },
   "outputs": [],
   "source": [
    "def leastDegreeInx(b):\n",
    "    x = sympy.Symbol('x')\n",
    "    y = sympy.Symbol('y')\n",
    "    k = 0\n",
    "    while(sympy.simplify(b/x**k).subs(x, 0) == 0):\n",
    "        k += 1\n",
    "    return k"
   ]
  },
  {
   "cell_type": "code",
   "execution_count": 73,
   "metadata": {
    "collapsed": true
   },
   "outputs": [],
   "source": [
    "def urgetter(h):\n",
    "    '''\n",
    "    Given a polynomial \n",
    "        h(x,y) = y ** d + b_2(x)y**(d-2) + ... + b_d(x)\n",
    "    this function returns the tuple r, u_r where u_r is the\n",
    "    degree of b_r such that u_r/r is minimal.\n",
    "    '''\n",
    "    list_of_bs = componentsOfy(h)\n",
    "    list_of_bs = list_of_bs[::-1] # To follow the convention of the proof.\n",
    "    list_of_least_degrees = [leastDegreeInx(b) for b in list_of_bs[2:]] #Here, position 0 is really from b2.\n",
    "    list_of_quotients = [k/(i+2) for (i, k) in enumerate(list_of_least_degrees)]\n",
    "    r_indexer = list_of_quotients.index(min(list_of_quotients))\n",
    "    return r_indexer + 2, list_of_least_degrees[r_indexer]"
   ]
  },
  {
   "cell_type": "markdown",
   "metadata": {},
   "source": [
    "## Testing"
   ]
  },
  {
   "cell_type": "code",
   "execution_count": 3,
   "metadata": {
    "collapsed": true
   },
   "outputs": [],
   "source": [
    "x = sympy.Symbol('x')\n",
    "y = sympy.Symbol('y')"
   ]
  },
  {
   "cell_type": "code",
   "execution_count": 6,
   "metadata": {},
   "outputs": [
    {
     "name": "stdout",
     "output_type": "stream",
     "text": [
      "Poly(2*x*y, x, y, domain='ZZ')\n",
      "True\n"
     ]
    }
   ],
   "source": [
    "f = sympy.Poly(x, x, y)\n",
    "g = sympy.Poly(y, x, y)\n",
    "\n",
    "h= hgetter(f,g)\n",
    "print(h)\n",
    "print(h == 2*x*y)"
   ]
  },
  {
   "cell_type": "code",
   "execution_count": 23,
   "metadata": {},
   "outputs": [
    {
     "name": "stdout",
     "output_type": "stream",
     "text": [
      "Poly(4*x**4*y - 2*x**2*y**3 + 2*y**5, x, y, domain='ZZ')\n"
     ]
    }
   ],
   "source": [
    "f = sympy.Poly(x**2 + y**2)\n",
    "g = sympy.Poly(2*y**3 + 4*x**2*y)\n",
    "\n",
    "h= hgetter(f,g)\n",
    "print(h)"
   ]
  },
  {
   "cell_type": "markdown",
   "metadata": {},
   "source": [
    "hgetter is working perfectly"
   ]
  },
  {
   "cell_type": "code",
   "execution_count": 25,
   "metadata": {},
   "outputs": [
    {
     "data": {
      "text/plain": [
       "Poly(-x**2 - 63/8*x*y + y**2, x, y, domain='QQ')"
      ]
     },
     "execution_count": 25,
     "metadata": {},
     "output_type": "execute_result"
    }
   ],
   "source": [
    "h = sympy.Poly(2*x*y)\n",
    "monicMaker(h)"
   ]
  },
  {
   "cell_type": "markdown",
   "metadata": {},
   "source": [
    "monicMaker too, let's try the automorphisms"
   ]
  },
  {
   "cell_type": "code",
   "execution_count": 13,
   "metadata": {},
   "outputs": [
    {
     "name": "stdout",
     "output_type": "stream",
     "text": [
      "Poly(-x**2 - 35/6*x*y + y**2, x, y, domain='QQ')\n",
      "Poly(y**2 - 35*x/6*y - x**2, y, domain='QQ[x]')\n"
     ]
    },
    {
     "data": {
      "text/plain": [
       "1"
      ]
     },
     "execution_count": 13,
     "metadata": {},
     "output_type": "execute_result"
    }
   ],
   "source": [
    "h1 = monicMaker(h)\n",
    "print(h1)\n",
    "print(h1.as_poly(y))\n",
    "h1.as_poly(y).LC()"
   ]
  },
  {
   "cell_type": "markdown",
   "metadata": {},
   "source": [
    "phi is working well too. Let's try Newton's."
   ]
  },
  {
   "cell_type": "code",
   "execution_count": 26,
   "metadata": {},
   "outputs": [
    {
     "data": {
      "text/plain": [
       "2*x**(5/6)*y"
      ]
     },
     "execution_count": 26,
     "metadata": {},
     "output_type": "execute_result"
    }
   ],
   "source": [
    "h = sympy.Poly(2*x*y)\n",
    "newtonAutomorphism(h, sympy.Rational(1,2), sympy.Rational(1,3))"
   ]
  },
  {
   "cell_type": "markdown",
   "metadata": {},
   "source": [
    "also working well, we need to be wary of the way rationals are entered."
   ]
  },
  {
   "cell_type": "code",
   "execution_count": 78,
   "metadata": {},
   "outputs": [
    {
     "name": "stdout",
     "output_type": "stream",
     "text": [
      "Poly(1.35525271560688e-20*x**3 + 0.128936767578125*x**2*y**2 - 0.00171244144439697*x**2*y + 5.68584073334934e-6*x**2 - 0.28564453125*x*y**3 + 0.00569057464599609*x*y**2 - 0.00202143155038357*x*y - 0.000234699048305629*x + 1.0*y**5 - 0.00044097900390625*y**3 + 0.00024999737739563*y**2 + 2.72459160769358e-5*y - 1.91838049177022e-7, x, y, domain='RR')\n",
      "[Poly(1.35525271560688e-20*x**3 + 5.68584073334934e-6*x**2 - 0.000234699048305629*x - 1.91838049177022e-7, x, domain='RR'), Poly(-0.00171244144439697*x**2 - 0.00202143155038357*x + 2.72459160769358e-5, x, domain='RR'), Poly(0.128936767578125*x**2 + 0.00569057464599609*x + 0.00024999737739563, x, domain='RR'), Poly(-0.28564453125*x - 0.00044097900390625, x, domain='RR'), Poly(0.0, x, domain='RR'), Poly(1.0, x, domain='RR')]\n",
      "2 0\n"
     ]
    }
   ],
   "source": [
    "h = sympy.Poly(x**2*y**2 + (2*x**3 + x + 1)*y + x**5)\n",
    "monic_h = monicMaker(h)\n",
    "# print(componentsOfy(monic_h))\n",
    "# print(monic_h)\n",
    "modified_h, inverser = phiAutomorphism(monic_h)\n",
    "print(modified_h)\n",
    "print(componentsOfy(modified_h))\n",
    "(r, ur) = urgetter(modified_h)\n",
    "print(r, ur)"
   ]
  },
  {
   "cell_type": "markdown",
   "metadata": {},
   "source": [
    "looks like urgetter is working fine too."
   ]
  },
  {
   "cell_type": "markdown",
   "metadata": {},
   "source": [
    "## Hensel's Lemma and its auxiliar functions."
   ]
  },
  {
   "cell_type": "code",
   "execution_count": 81,
   "metadata": {},
   "outputs": [
    {
     "data": {
      "text/plain": [
       "Ellipsis"
      ]
     },
     "execution_count": 81,
     "metadata": {},
     "output_type": "execute_result"
    }
   ],
   "source": [
    "..."
   ]
  },
  {
   "cell_type": "markdown",
   "metadata": {},
   "source": [
    "## The algorithm: solving limits of the form f/g with f and g polynomials in two variables"
   ]
  },
  {
   "cell_type": "code",
   "execution_count": null,
   "metadata": {
    "collapsed": true
   },
   "outputs": [],
   "source": [
    "def quotientLimit(f,g):\n",
    "    '''\n",
    "    This function finds the limit f/g as (x,y) tends to (0,0).\n",
    "    '''\n",
    "    x = sympy.Symbol('x')\n",
    "    y = sympy.Symbol('y')\n",
    "    h = hgetter(f,g)\n",
    "    h = monicMaker(h)\n",
    "    modified_h, phi_inverser = phiAutomorphism(h)\n",
    "    (r, u_r) = urgetter(modified_h)\n",
    "    modified_h = newtonAutomorphism(modified_h, r, u_r)\n",
    "    \n",
    "    d = sympy.degree(h, y)\n",
    "    \n",
    "    poly_accumulator = 1\n",
    "    F = sympy.simplify(modified_h/x**(d*u_r)).as_poly()\n",
    "    "
   ]
  }
 ],
 "metadata": {
  "kernelspec": {
   "display_name": "Python 3",
   "language": "python",
   "name": "python3"
  },
  "language_info": {
   "codemirror_mode": {
    "name": "ipython",
    "version": 3
   },
   "file_extension": ".py",
   "mimetype": "text/x-python",
   "name": "python",
   "nbconvert_exporter": "python",
   "pygments_lexer": "ipython3",
   "version": "3.5.2"
  }
 },
 "nbformat": 4,
 "nbformat_minor": 1
}
