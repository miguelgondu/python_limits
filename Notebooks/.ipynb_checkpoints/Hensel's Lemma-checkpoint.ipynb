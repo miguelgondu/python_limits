{
 "cells": [
  {
   "cell_type": "markdown",
   "metadata": {},
   "source": [
    "# Hensel's Lemma"
   ]
  },
  {
   "cell_type": "markdown",
   "metadata": {},
   "source": [
    "In this python3 notebook an implementation of a variation of Hensel's lemma is presented."
   ]
  },
  {
   "cell_type": "code",
   "execution_count": 1,
   "metadata": {
    "collapsed": true
   },
   "outputs": [],
   "source": [
    "import sympy\n",
    "import math"
   ]
  },
  {
   "cell_type": "markdown",
   "metadata": {},
   "source": [
    "To implement it, we require the following lemma:\n",
    "\n",
    "**Lemma 1**: let $p(y)$ and $q(y)$ be polynomials in $\\mathbb{K}[y]$ with $\\gcd(p,q) = 1$, $\\deg(p) = r$ and $\\deg(q) = s$. Given $f\\in\\mathbb{K}[y]$ such that $\\deg(f) < r+s$, there exists unique polynomials $g,h\\in\\mathbb{K}[y]$ such that $f = gp+hq$\n",
    "\n",
    "The implementation of this lema can be found here:"
   ]
  },
  {
   "cell_type": "code",
   "execution_count": 2,
   "metadata": {
    "collapsed": true
   },
   "outputs": [],
   "source": [
    "def lemma_1(f,p,q):\n",
    "    r = sympy.degree(p)\n",
    "    s = sympy.degree(q)\n",
    "    if sympy.degree(f) >= r+s:\n",
    "        raise ValueError('polynomial f must have degree less that deg(p)+deg(q)')\n",
    "    (phi, psi, gcd) = sympy.gcdex(p,q)\n",
    "    if gcd != 1:\n",
    "        raise ValueError('polynomials p and q are not relatively prime')\n",
    "    l, h = sympy.div(f*psi, p)\n",
    "    g = f*phi + l*q\n",
    "    return g, h"
   ]
  },
  {
   "cell_type": "markdown",
   "metadata": {},
   "source": [
    "Next, we require two auxiliar functions that helps us deal with factorizations and homogenous components:"
   ]
  },
  {
   "cell_type": "code",
   "execution_count": 3,
   "metadata": {
    "collapsed": true
   },
   "outputs": [],
   "source": [
    "def fgetter(F):\n",
    "    '''\n",
    "    This functions gets the homogenous components with respect to x. They are interpreted as polynomials in y.\n",
    "    \n",
    "    F: a polynomial in two variables x and y.\n",
    "    returns: a list of homogenous components.\n",
    "    \n",
    "    TO-DO:\n",
    "        - find a way to get the generators of a polynomial, so that I can implement this in a more general fashion.\n",
    "    '''\n",
    "    x = sympy.Symbol('x')\n",
    "    y = sympy.Symbol('y')\n",
    "    list_of_Fprimes = [F]\n",
    "    list_of_fs = [F.eval(x, 0)]\n",
    "    for j in range(1, sympy.degree(F, x)+1):\n",
    "        nextFprime = sympy.diff(list_of_Fprimes[j-1], x)\n",
    "        list_of_Fprimes.append(nextFprime)\n",
    "        list_of_fs.append((1/math.factorial(j))*nextFprime.eval(x, 0))\n",
    "    return list_of_fs"
   ]
  },
  {
   "cell_type": "code",
   "execution_count": 4,
   "metadata": {
    "collapsed": true
   },
   "outputs": [],
   "source": [
    "def pqgetter(f):\n",
    "    '''\n",
    "    This function takes a polynomial f = pq with gcd(p,q) = 1 and returns the tuple (p, q).\n",
    "    '''\n",
    "    if f.is_irreducible:\n",
    "        raise ValueError('f has no factorization')\n",
    "    _list_of_factors = list(sympy.Mul.make_args(f.factor()))\n",
    "    if len(_list_of_factors) < 2:\n",
    "        raise ValueError('f might have no factorization f=pq with gcd(p,q) = 1')\n",
    "    if len(_list_of_factors) == 2:\n",
    "        if sympy.gcd(_list_of_factors[0], _list_of_factors[1]) == 1:\n",
    "            return _list_of_factors[0], _list_of_factors[1]\n",
    "        else:\n",
    "            raise ValueError('f has no factorization f=pq with gcd(p,q) = 1')\n",
    "    else:\n",
    "        first_factor = _list_of_factors[0]\n",
    "        second_factor = 1\n",
    "        for index in range(1, len(_list_of_factors)):\n",
    "            second_factor = second_factor * _list_of_factors[index]\n",
    "        if sympy.gcd(first_factor, second_factor) == 1:\n",
    "            return first_factor, second_factor\n",
    "        else:\n",
    "            raise ValueError('f has no factorization f=pq with gcd(p,q) = 1')"
   ]
  },
  {
   "cell_type": "markdown",
   "metadata": {},
   "source": [
    "Now we implement a version of Hensel's lemma:\n",
    "\n",
    "**Lemma (Hensel)**: Let $F\\in \\mathbb{K}[[x]][y]$ be a monic polynomial such that $F(0,y) = p(y)q(y)$ with $\\gcd(p,q) = 1$, $\\deg(p) = r$ and $\\deg(q) = s$. Then there exists polynomials $P,Q\\in\\mathbb{K}[[x]][y]$ with $\\deg(P) = r$ and $\\deg(Q) = s$ such that $P(0,y) = p(y)$, $Q(0,y) = q(y)$ and $F = PQ$."
   ]
  },
  {
   "cell_type": "code",
   "execution_count": 22,
   "metadata": {
    "collapsed": true
   },
   "outputs": [],
   "source": [
    "def HenselsLemma(F):\n",
    "    '''\n",
    "    This function takes a polynomial in two variables F(x,y) monic in y such that F(0,y) = p(y)q(y), and finds\n",
    "    two polynomials in two variables P and Q such that P(0,y) = p(y), Q(0,y) = q(y) and F = PQ up to deg(F).\n",
    "    That is, this function lifts the factorization F(0,y) = p(y)q(y).\n",
    "    \n",
    "    F: a polynomial in two variables x and y.\n",
    "    returns: a tuple (P,Q) such that F = PQ up to deg(F).\n",
    "    \n",
    "    TO-DO:\n",
    "        - this function only accepts polynomials in explicitly x and y, we need one that accepts polys in \n",
    "          arbitrary generators.\n",
    "    '''\n",
    "    x = sympy.Symbol('x')\n",
    "    y = sympy.Symbol('y')\n",
    "    if sympy.LC(F,y) != 1:\n",
    "        raise ValueError('F must be monic in y')\n",
    "    n = sympy.degree(F, x)\n",
    "    _list_of_fs = fgetter(F)\n",
    "    f0 = F.subs(x, 0)\n",
    "    p, q = pqgetter(f0)\n",
    "    q1, p1 = lemma_1(_list_of_fs[1], p, q)\n",
    "    _list_of_ps = [p, p1]\n",
    "    _list_of_qs = [q, q1]\n",
    "    _list_of_ms = [0]\n",
    "    for i in range(2,n+1):\n",
    "        ri = 0\n",
    "        for j in range(1,i):\n",
    "            ri = ri + _list_of_qs[i-j]*_list_of_ps[j]\n",
    "        mi = _list_of_fs[i] - ri\n",
    "        _list_of_ms.append(mi)\n",
    "        qi, pi = lemma_1(mi, p, q)\n",
    "        _list_of_ps.append(sympy.Poly(pi,x,y))\n",
    "        _list_of_qs.append(sympy.Poly(qi,x,y))\n",
    "    P = 0\n",
    "    Q = 0\n",
    "    for k in range(0,n+1):\n",
    "        Q = Q + sympy.Poly(x**k, x, y)*_list_of_qs[k]\n",
    "    for k in range(0,n+1):\n",
    "        P = P + sympy.Poly(x**k, x, y)*_list_of_ps[k]\n",
    "        if P*Q == F:\n",
    "            break\n",
    "    print('list of fs: ' + str(_list_of_fs))\n",
    "    print('list of ps: ' + str(_list_of_ps))\n",
    "    print('list of qs: ' + str(_list_of_qs))\n",
    "    print('list of ms: ' + str(_list_of_ms))\n",
    "    return P, Q"
   ]
  },
  {
   "cell_type": "code",
   "execution_count": 21,
   "metadata": {
    "collapsed": true
   },
   "outputs": [],
   "source": [
    "def Hensels_lemma_2(F, n):\n",
    "    x = sympy.Symbol('x')\n",
    "    y = sympy.Symbol('y')\n",
    "\n",
    "    if sympy.LC(F, y) != 1:\n",
    "        raise ValueError('F must be monic in y')\n",
    "\n",
    "    list_of_ps = [0 for k in range(0,n+1)]\n",
    "    list_of_qs = [0 for k in range(0,n+1)]\n",
    "\n",
    "    degree_of_F_x = sympy.degree(F, x)\n",
    "\n",
    "    list_of_fs = [0 for k in range(0,n+1)]\n",
    "    for k in range(0, degree_of_F_x+1):\n",
    "        try:\n",
    "            list_of_fs[k] = fgetter(F)[k]\n",
    "        except:\n",
    "            pass\n",
    "\n",
    "\n",
    "    f0 = F.subs(x, 0)\n",
    "    p, q = pqgetter(f0)\n",
    "    q1, p1 = lemma_1(list_of_fs[1], p, q)\n",
    "    \n",
    "    list_of_ps[0] = p\n",
    "    list_of_ps[1] = p1\n",
    "    list_of_qs[0] = q\n",
    "    list_of_qs[1] = q1\n",
    "\n",
    "    list_of_ms = [0]\n",
    "    for i in range(2,n+1):\n",
    "        ri = 0\n",
    "        for j in range(1,i):\n",
    "            ri = ri + list_of_qs[i-j]*list_of_ps[j]\n",
    "        mi = list_of_fs[i] - ri\n",
    "        list_of_ms.append(mi)\n",
    "        qi, pi = lemma_1(mi, p, q)\n",
    "        list_of_ps[i] = sympy.Poly(pi,x,y)\n",
    "        list_of_qs[i] = sympy.Poly(qi,x,y)\n",
    "    P = 0\n",
    "    Q = 0\n",
    "\n",
    "    for k in range(0,n+1):\n",
    "        Q = Q + sympy.Poly(x**k, x, y)*list_of_qs[k]\n",
    "        P = P + sympy.Poly(x**k, x, y)*list_of_ps[k]\n",
    "    \n",
    "    print('list of fs: ' + str(list_of_fs))\n",
    "    print('list of ps: ' + str(list_of_ps))\n",
    "    print('list of qs: ' + str(list_of_qs))\n",
    "    print('list of ms: ' + str(list_of_ms))\n",
    "\n",
    "    return P, Q"
   ]
  },
  {
   "cell_type": "code",
   "execution_count": 23,
   "metadata": {
    "collapsed": false
   },
   "outputs": [
    {
     "name": "stdout",
     "output_type": "stream",
     "text": [
      "list of fs: [Poly(y**3 + y, y, domain='ZZ'), Poly(1.0*y**2 + 1.0*y, y, domain='RR'), Poly(1.0*y, y, domain='RR')]\n",
      "list of ps: [y, Poly(0.0, y, domain='RR'), Poly(0, x, y, domain='ZZ')]\n",
      "list of qs: [y**2 + 1, Poly(1.0*y + 1.0, y, domain='RR'), Poly(1.0, x, y, domain='RR')]\n",
      "list of ms: [0, Poly(1.0*y, y, domain='RR')]\n",
      "True\n",
      "P: Poly(y, x, y, domain='ZZ')\n",
      "Q: Poly(1.0*x**2 + 1.0*x*y + 1.0*x + 1.0*y**2 + 1.0, x, y, domain='RR')\n",
      "F: y*(x**2 + x*y + x + y**2 + 1)\n",
      "P*Q: Poly(1.0*x**2*y + 1.0*x*y**2 + 1.0*x*y + 1.0*y**3 + 1.0*y, x, y, domain='RR')\n"
     ]
    }
   ],
   "source": [
    "x = sympy.Symbol('x')\n",
    "y = sympy.Symbol('y')\n",
    "F = sympy.Poly(y**3 + y + x*(y**2 + y) + y*x**2)\n",
    "P, Q = HenselsLemma(F)\n",
    "print(F == P*Q)\n",
    "print('P: ' + str(P))\n",
    "print('Q: ' + str(Q))\n",
    "print('F: '+ str(F.factor()))\n",
    "print('P*Q: '+ str(sympy.Poly(P*Q)))"
   ]
  },
  {
   "cell_type": "code",
   "execution_count": 24,
   "metadata": {
    "collapsed": false
   },
   "outputs": [
    {
     "name": "stdout",
     "output_type": "stream",
     "text": [
      "list of fs: [Poly(y**3 + y, y, domain='ZZ'), Poly(1.0*y**2 + 1.0*y, y, domain='RR'), 0, 0]\n",
      "list of ps: [y, Poly(0.0, y, domain='RR'), Poly(0, x, y, domain='ZZ'), Poly(0, x, y, domain='ZZ')]\n",
      "list of qs: [y**2 + 1, Poly(1.0*y + 1.0, y, domain='RR'), Poly(0, x, y, domain='ZZ'), Poly(0.0, x, y, domain='RR')]\n",
      "list of ms: [0, Poly(0.0, y, domain='RR'), Poly(0.0, x, y, domain='RR')]\n",
      "False\n",
      "P: Poly(1.0*y, x, y, domain='RR')\n",
      "Q: Poly(1.0*x*y + 1.0*x + 1.0*y**2 + 1.0, x, y, domain='RR')\n",
      "F: y*(x**2 + x*y + x + y**2 + 1)\n",
      "P*Q: Poly(1.0*x*y**2 + 1.0*x*y + 1.0*y**3 + 1.0*y, x, y, domain='RR')\n"
     ]
    }
   ],
   "source": [
    "x = sympy.Symbol('x')\n",
    "y = sympy.Symbol('y')\n",
    "F = sympy.Poly(y**3 + y + x*(y**2 + y) + y*x**2)\n",
    "P, Q = Hensels_lemma_2(F, 3)\n",
    "print(F == P*Q)\n",
    "print('P: ' + str(P))\n",
    "print('Q: ' + str(Q))\n",
    "print('F: '+ str(F.factor()))\n",
    "print('P*Q: '+ str(sympy.Poly(P*Q)))"
   ]
  },
  {
   "cell_type": "code",
   "execution_count": 8,
   "metadata": {
    "collapsed": false
   },
   "outputs": [
    {
     "name": "stdout",
     "output_type": "stream",
     "text": [
      "False\n",
      "P: Poly(-3.0*x**2 + 2.0*x + 1.0*y, x, y, domain='RR')\n",
      "Q: Poly(3.0*x**2*y**3 + 4.0*x**2*y**2 - 1.0*x**2*y - 2.0*x**2 - 2.0*x*y**3 + 1.0*x + 1.0*y**4 + 1.0, x, y, domain='RR')\n",
      "G: -x**2*y**2 - 2*x**2*y - x**2 + x*y + 2*x + y**5 + y\n",
      "P*Q: Poly(-9.0*x**4*y**3 - 12.0*x**4*y**2 + 3.0*x**4*y + 6.0*x**4 + 12.0*x**3*y**3 + 8.0*x**3*y**2 - 2.0*x**3*y - 7.0*x**3 - 1.0*x**2*y**2 - 2.0*x**2*y - 1.0*x**2 + 1.0*x*y + 2.0*x + 1.0*y**5 + 1.0*y, x, y, domain='RR')\n"
     ]
    }
   ],
   "source": [
    "G = sympy.Poly(y**5 + y + x*(y + 2) - (y**2 + 2*y + 1)*x**2)\n",
    "P, Q = HenselsLemma(G)\n",
    "print(G == P*Q)\n",
    "print('P: ' + str(P))\n",
    "print('Q: ' + str(Q))\n",
    "print('G: '+ str(G.factor()))\n",
    "print('P*Q: '+ str(sympy.Poly(P*Q)))"
   ]
  },
  {
   "cell_type": "code",
   "execution_count": null,
   "metadata": {
    "collapsed": true
   },
   "outputs": [],
   "source": [
    "H = "
   ]
  }
 ],
 "metadata": {
  "kernelspec": {
   "display_name": "Python 3",
   "language": "python",
   "name": "python3"
  },
  "language_info": {
   "codemirror_mode": {
    "name": "ipython",
    "version": 3
   },
   "file_extension": ".py",
   "mimetype": "text/x-python",
   "name": "python",
   "nbconvert_exporter": "python",
   "pygments_lexer": "ipython3",
   "version": "3.4.3"
  }
 },
 "nbformat": 4,
 "nbformat_minor": 1
}
