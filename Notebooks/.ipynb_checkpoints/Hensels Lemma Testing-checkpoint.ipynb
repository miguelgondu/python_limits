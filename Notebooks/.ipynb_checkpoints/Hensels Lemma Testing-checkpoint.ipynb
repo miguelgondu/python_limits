{
 "cells": [
  {
   "cell_type": "code",
   "execution_count": 1,
   "metadata": {
    "collapsed": true
   },
   "outputs": [],
   "source": [
    "import sympy\n",
    "import math"
   ]
  },
  {
   "cell_type": "markdown",
   "metadata": {},
   "source": [
    "## Implementación del lema 1"
   ]
  },
  {
   "cell_type": "markdown",
   "metadata": {},
   "source": [
    "**Lema 1**: Sean $p,q$ polinomios en $k[y]$ con $(p,q)=1$, $\\deg(p) = r$ y $\\deg(q) = s$. Dado $f\\in k[y]$ tal que $\\deg(f) < r+s$, existen únicos polinomios $g,h\\in k[y]$ con $\\deg(g)<s$, $\\deg(h)<r$ tales que $f = gp+hq$"
   ]
  },
  {
   "cell_type": "markdown",
   "metadata": {},
   "source": [
    "La siguiente función es una implementación del lema 1: dados $f, p$ y $q$ devuelve $g$ y $h$."
   ]
  },
  {
   "cell_type": "code",
   "execution_count": 2,
   "metadata": {
    "collapsed": true
   },
   "outputs": [],
   "source": [
    "def lema_1(f,p,q):\n",
    "    r = sympy.degree(p)\n",
    "    s = sympy.degree(q)\n",
    "    if sympy.degree(f) >= r+s:\n",
    "        raise ValueError('polynomial f must have degree less that deg(p)+deg(q)')\n",
    "    (phi, psi, gcd) = sympy.gcdex(p,q)\n",
    "    if gcd != 1:\n",
    "        raise ValueError('polynomials p and q are not relatively prime')\n",
    "    l, h = sympy.div(f*psi, p)\n",
    "    g = f*phi + l*q\n",
    "    return g, h"
   ]
  },
  {
   "cell_type": "code",
   "execution_count": 3,
   "metadata": {
    "collapsed": false
   },
   "outputs": [],
   "source": [
    "f = sympy.Poly('3*y**2 + 4')\n",
    "p = sympy.Poly('y+1')\n",
    "q = sympy.Poly('y**2')"
   ]
  },
  {
   "cell_type": "code",
   "execution_count": 4,
   "metadata": {
    "collapsed": false
   },
   "outputs": [
    {
     "data": {
      "text/plain": [
       "True"
      ]
     },
     "execution_count": 4,
     "metadata": {},
     "output_type": "execute_result"
    }
   ],
   "source": [
    "g, h = lema_1(f,p,q)\n",
    "f == g*p + h*q"
   ]
  },
  {
   "cell_type": "code",
   "execution_count": 5,
   "metadata": {
    "collapsed": false
   },
   "outputs": [
    {
     "name": "stdout",
     "output_type": "stream",
     "text": [
      "True\n",
      "True\n"
     ]
    }
   ],
   "source": [
    "x = sympy.Symbol('x')\n",
    "y = sympy.Symbol('y')\n",
    "f = sympy.Poly(x*y/2 + y**2, y)\n",
    "p = sympy.Poly(y+x, y)\n",
    "q = sympy.Poly(y**2)\n",
    "print(sympy.degree(f) < sympy.degree(p) + sympy.degree(q))\n",
    "print(sympy.gcd(p,q) == 1)"
   ]
  },
  {
   "cell_type": "code",
   "execution_count": 6,
   "metadata": {
    "collapsed": false
   },
   "outputs": [
    {
     "name": "stdout",
     "output_type": "stream",
     "text": [
      "True\n",
      "Poly(y**2 + x/2*y, y, domain='QQ[x]') Poly(y**2 + x/2*y, y, domain='ZZ(x)')\n",
      "Poly(1/2*y, y, domain='ZZ(x)')\n",
      "Poly(1/2, y, domain='ZZ(x)')\n"
     ]
    }
   ],
   "source": [
    "g, h = lema_1(f,p,q)\n",
    "print(f == g*p + h*q)\n",
    "print(f, g*p + h*q)\n",
    "print(g)\n",
    "print(h)"
   ]
  },
  {
   "cell_type": "markdown",
   "metadata": {},
   "source": [
    "También funciona con polinomios con coeficientes en $k[x]$"
   ]
  },
  {
   "cell_type": "markdown",
   "metadata": {},
   "source": [
    "## Implementación del lema de Hensel"
   ]
  },
  {
   "cell_type": "markdown",
   "metadata": {},
   "source": [
    "Para la implementación del lema de Hensel, necesitamos un par de funciones auxiliares:\n",
    "* necesitamos poder factorizar $F(0,y) = p(y)q(y)$ y encontrar $p$ y $q$ explícitamente (asegurando $(p,q) = 1$)\n",
    "* Si $F(x,y) = f_0(y) + xf_1(y) + ... + x^nf_n(y)$, necesitamos poder encontrar $f_i$ explícitamente."
   ]
  },
  {
   "cell_type": "markdown",
   "metadata": {},
   "source": [
    "Primero, encontramos las $f_i$ usando derivadas: en general, $f_j(y) = (1/j!)\\partial^j_{x=0} F(x,y)$"
   ]
  },
  {
   "cell_type": "code",
   "execution_count": 7,
   "metadata": {
    "collapsed": false
   },
   "outputs": [],
   "source": [
    "def fgetter(F):\n",
    "    '''\n",
    "    This functions gets the homogenous components with respect to x. They are interpreted as polynomials in y.\n",
    "    \n",
    "    F: a polynomial in two variables x and y.\n",
    "    returns: a list of homogenous components.\n",
    "    \n",
    "    TO-DO:\n",
    "        - find a way to get the generators of a polynomial, so that I can implement this in a more general fashion.\n",
    "    '''\n",
    "    x = sympy.Symbol('x')\n",
    "    y = sympy.Symbol('y')\n",
    "    list_of_Fprimes = [F]\n",
    "    list_of_fs = [F.eval(x, 0)]\n",
    "    for j in range(1, sympy.degree(F, x)+1):\n",
    "        nextFprime = sympy.diff(list_of_Fprimes[j-1], x)\n",
    "        list_of_Fprimes.append(nextFprime)\n",
    "        list_of_fs.append((1/math.factorial(j))*nextFprime.eval(x, 0))\n",
    "    return list_of_fs"
   ]
  },
  {
   "cell_type": "code",
   "execution_count": 8,
   "metadata": {
    "collapsed": false
   },
   "outputs": [
    {
     "name": "stdout",
     "output_type": "stream",
     "text": [
      "2\n",
      "range(0, 2)\n",
      "[Poly(y, y, domain='ZZ'), Poly(1.0*y**2 + 1.0*y, y, domain='RR'), Poly(1.0*y, y, domain='RR')]\n"
     ]
    }
   ],
   "source": [
    "x = sympy.Symbol('x')\n",
    "y = sympy.Symbol('y')\n",
    "F = sympy.Poly(x*y + x*y**2 + y + y*x**2)\n",
    "print(sympy.degree(F,x))\n",
    "print(range(sympy.degree(F,x)))\n",
    "list_of_fs = fgetter(F)\n",
    "print(list_of_fs)"
   ]
  },
  {
   "cell_type": "markdown",
   "metadata": {},
   "source": [
    "Es decir, ya tenemos implementada la función que consigue las $f_i$"
   ]
  },
  {
   "cell_type": "code",
   "execution_count": 9,
   "metadata": {
    "collapsed": false
   },
   "outputs": [
    {
     "data": {
      "text/plain": [
       "[Poly(y**2 + y, y, domain='ZZ'),\n",
       " Poly(1.0*y**3 + 1.0*y, y, domain='RR'),\n",
       " Poly(2.0*y, y, domain='RR')]"
      ]
     },
     "execution_count": 9,
     "metadata": {},
     "output_type": "execute_result"
    }
   ],
   "source": [
    "G = sympy.Poly(y**2 + y + x*y + x*(y**3) + 2*y*x**2)\n",
    "fgetter(G)"
   ]
  },
  {
   "cell_type": "code",
   "execution_count": 10,
   "metadata": {
    "collapsed": false
   },
   "outputs": [
    {
     "data": {
      "text/plain": [
       "[Poly(3*y, y, domain='ZZ'),\n",
       " Poly(2.0*y**2 + 1.0*y, y, domain='RR'),\n",
       " Poly(1.0*y**5, y, domain='RR')]"
      ]
     },
     "execution_count": 10,
     "metadata": {},
     "output_type": "execute_result"
    }
   ],
   "source": [
    "H = sympy.Poly(3*y + x*(y+2*y**2) + (x**2)*(y**5))\n",
    "fgetter(H)"
   ]
  },
  {
   "cell_type": "markdown",
   "metadata": {},
   "source": [
    "Ahora implemetamos una función que factoriza $f_0(y) = p(y)q(y)$ y devuelve los factores $p$ y $q$"
   ]
  },
  {
   "cell_type": "code",
   "execution_count": 11,
   "metadata": {
    "collapsed": true
   },
   "outputs": [],
   "source": [
    "def pqgetter(f):\n",
    "    '''\n",
    "    This function takes a polynomial f = pq with gcd(p,q) = 1 and returns the tuple (p, q)\n",
    "    '''\n",
    "    if f.is_irreducible:\n",
    "        raise ValueError('f has no factorization')\n",
    "    _list_of_factors = list(sympy.Mul.make_args(f.factor()))\n",
    "    if len(_list_of_factors) < 2:\n",
    "        raise ValueError('f might have no factorization')\n",
    "    if len(_list_of_factors) == 2:\n",
    "        if sympy.gcd(_list_of_factors[0], _list_of_factors[1]) == 1:\n",
    "            return _list_of_factors[0], _list_of_factors[1]\n",
    "        else:\n",
    "            raise ValueError('f has no factorization f=pq with gcd(p,q) = 1')\n",
    "    else:\n",
    "        first_factor = _list_of_factors[0]\n",
    "        second_factor = 1\n",
    "        for index in range(1, len(_list_of_factors)):\n",
    "            second_factor = second_factor * _list_of_factors[index]\n",
    "        if sympy.gcd(first_factor, second_factor) == 1:\n",
    "            return first_factor, second_factor\n",
    "        else:\n",
    "            raise ValueError('f has no factorization f=pq with gcd(p,q) = 1')"
   ]
  },
  {
   "cell_type": "code",
   "execution_count": 12,
   "metadata": {
    "collapsed": false
   },
   "outputs": [
    {
     "name": "stdout",
     "output_type": "stream",
     "text": [
      "(y, y**2 + 1, x + y)\n"
     ]
    },
    {
     "data": {
      "text/plain": [
       "(y, (x + y)*(y**2 + 1))"
      ]
     },
     "execution_count": 12,
     "metadata": {},
     "output_type": "execute_result"
    }
   ],
   "source": [
    "g = sympy.Poly(y**4 + x*y**3 + y**2 + x*y, y)\n",
    "print(sympy.Mul.make_args(g.factor()))\n",
    "pqgetter(g)"
   ]
  },
  {
   "cell_type": "code",
   "execution_count": 13,
   "metadata": {
    "collapsed": false
   },
   "outputs": [
    {
     "name": "stdout",
     "output_type": "stream",
     "text": [
      "False\n"
     ]
    },
    {
     "ename": "ValueError",
     "evalue": "f might have no factorization",
     "output_type": "error",
     "traceback": [
      "\u001b[0;31m---------------------------------------------------------------------------\u001b[0m",
      "\u001b[0;31mValueError\u001b[0m                                Traceback (most recent call last)",
      "\u001b[0;32m<ipython-input-13-9f870f875a0e>\u001b[0m in \u001b[0;36m<module>\u001b[0;34m()\u001b[0m\n\u001b[1;32m      1\u001b[0m \u001b[0mf\u001b[0m \u001b[0;34m=\u001b[0m \u001b[0msympy\u001b[0m\u001b[0;34m.\u001b[0m\u001b[0mPoly\u001b[0m\u001b[0;34m(\u001b[0m\u001b[0my\u001b[0m\u001b[0;34m**\u001b[0m\u001b[0;36m3\u001b[0m\u001b[0;34m)\u001b[0m\u001b[0;34m\u001b[0m\u001b[0m\n\u001b[1;32m      2\u001b[0m \u001b[0mprint\u001b[0m\u001b[0;34m(\u001b[0m\u001b[0mf\u001b[0m\u001b[0;34m.\u001b[0m\u001b[0mis_irreducible\u001b[0m\u001b[0;34m)\u001b[0m\u001b[0;34m\u001b[0m\u001b[0m\n\u001b[0;32m----> 3\u001b[0;31m \u001b[0mpqgetter\u001b[0m\u001b[0;34m(\u001b[0m\u001b[0mf\u001b[0m\u001b[0;34m)\u001b[0m\u001b[0;34m\u001b[0m\u001b[0m\n\u001b[0m",
      "\u001b[0;32m<ipython-input-11-9a21dfc656b8>\u001b[0m in \u001b[0;36mpqgetter\u001b[0;34m(f)\u001b[0m\n\u001b[1;32m      7\u001b[0m     \u001b[0m_list_of_factors\u001b[0m \u001b[0;34m=\u001b[0m \u001b[0mlist\u001b[0m\u001b[0;34m(\u001b[0m\u001b[0msympy\u001b[0m\u001b[0;34m.\u001b[0m\u001b[0mMul\u001b[0m\u001b[0;34m.\u001b[0m\u001b[0mmake_args\u001b[0m\u001b[0;34m(\u001b[0m\u001b[0mf\u001b[0m\u001b[0;34m.\u001b[0m\u001b[0mfactor\u001b[0m\u001b[0;34m(\u001b[0m\u001b[0;34m)\u001b[0m\u001b[0;34m)\u001b[0m\u001b[0;34m)\u001b[0m\u001b[0;34m\u001b[0m\u001b[0m\n\u001b[1;32m      8\u001b[0m     \u001b[0;32mif\u001b[0m \u001b[0mlen\u001b[0m\u001b[0;34m(\u001b[0m\u001b[0m_list_of_factors\u001b[0m\u001b[0;34m)\u001b[0m \u001b[0;34m<\u001b[0m \u001b[0;36m2\u001b[0m\u001b[0;34m:\u001b[0m\u001b[0;34m\u001b[0m\u001b[0m\n\u001b[0;32m----> 9\u001b[0;31m         \u001b[0;32mraise\u001b[0m \u001b[0mValueError\u001b[0m\u001b[0;34m(\u001b[0m\u001b[0;34m'f might have no factorization'\u001b[0m\u001b[0;34m)\u001b[0m\u001b[0;34m\u001b[0m\u001b[0m\n\u001b[0m\u001b[1;32m     10\u001b[0m     \u001b[0;32mif\u001b[0m \u001b[0mlen\u001b[0m\u001b[0;34m(\u001b[0m\u001b[0m_list_of_factors\u001b[0m\u001b[0;34m)\u001b[0m \u001b[0;34m==\u001b[0m \u001b[0;36m2\u001b[0m\u001b[0;34m:\u001b[0m\u001b[0;34m\u001b[0m\u001b[0m\n\u001b[1;32m     11\u001b[0m         \u001b[0;32mif\u001b[0m \u001b[0msympy\u001b[0m\u001b[0;34m.\u001b[0m\u001b[0mgcd\u001b[0m\u001b[0;34m(\u001b[0m\u001b[0m_list_of_factors\u001b[0m\u001b[0;34m[\u001b[0m\u001b[0;36m0\u001b[0m\u001b[0;34m]\u001b[0m\u001b[0;34m,\u001b[0m \u001b[0m_list_of_factors\u001b[0m\u001b[0;34m[\u001b[0m\u001b[0;36m1\u001b[0m\u001b[0;34m]\u001b[0m\u001b[0;34m)\u001b[0m \u001b[0;34m==\u001b[0m \u001b[0;36m1\u001b[0m\u001b[0;34m:\u001b[0m\u001b[0;34m\u001b[0m\u001b[0m\n",
      "\u001b[0;31mValueError\u001b[0m: f might have no factorization"
     ]
    }
   ],
   "source": [
    "f = sympy.Poly(y**3)\n",
    "print(f.is_irreducible)\n",
    "pqgetter(f)"
   ]
  },
  {
   "cell_type": "code",
   "execution_count": 14,
   "metadata": {
    "collapsed": false
   },
   "outputs": [
    {
     "data": {
      "text/plain": [
       "(y, y + 1)"
      ]
     },
     "execution_count": 14,
     "metadata": {},
     "output_type": "execute_result"
    }
   ],
   "source": [
    "h = sympy.Poly(y**2 + y)\n",
    "pqgetter(h)"
   ]
  },
  {
   "cell_type": "markdown",
   "metadata": {},
   "source": [
    "Al parecer todo va bien, falta hacer un testing más exhaustivo."
   ]
  },
  {
   "cell_type": "markdown",
   "metadata": {},
   "source": [
    "Con esto, tenemos todo lo necesario para implementar el lema de Hensel."
   ]
  },
  {
   "cell_type": "code",
   "execution_count": 26,
   "metadata": {
    "collapsed": true
   },
   "outputs": [],
   "source": [
    "def HenselsLemma(F):\n",
    "    '''\n",
    "    This function takes a polynomial in two variables F(x,y) monic in y such that F(0,y) = p(y)q(y), and finds\n",
    "    two polynomials in two variables P and Q such that P(0,y) = p(y), Q(0,y) = q(y) and F = PQ.\n",
    "    That is, this function lifts the factorization F(0,y) = p(y)q(y).\n",
    "    \n",
    "    TO-DO:\n",
    "        - this function only accepts polynomials in explicitly x and y, we need one that accepts polys in \n",
    "          arbitrary generators.\n",
    "    '''\n",
    "    x = sympy.Symbol('x')\n",
    "    y = sympy.Symbol('y')\n",
    "    if sympy.LC(F,y) != 1:\n",
    "        raise ValueError('F must be monic in y')\n",
    "    n = sympy.degree(F, x)\n",
    "    _list_of_fs = fgetter(F)\n",
    "    f0 = F.subs(x, 0)\n",
    "    p, q = pqgetter(f0)\n",
    "    q1, p1 = lema_1(_list_of_fs[1], p, q)\n",
    "    _list_of_ps = [p, p1]\n",
    "    _list_of_qs = [q, q1]\n",
    "    for i in range(2,n+1):\n",
    "        ri = 0\n",
    "        for j in range(1,i):\n",
    "            ri = ri + _list_of_qs[i-j]*_list_of_ps[j]\n",
    "        mi = _list_of_fs[i] - ri\n",
    "        qi, pi = lema_1(mi, p, q)\n",
    "        _list_of_ps.append(sympy.Poly(pi,x,y))\n",
    "        _list_of_qs.append(sympy.Poly(qi,x,y))\n",
    "    P = 0\n",
    "    Q = 0\n",
    "    for k in range(0,n+1):\n",
    "        P = P + sympy.Poly(x**k, x, y)*_list_of_ps[k]\n",
    "        Q = Q + sympy.Poly(x**k, x, y)*_list_of_qs[k]\n",
    "    return P, Q"
   ]
  },
  {
   "cell_type": "code",
   "execution_count": 27,
   "metadata": {
    "collapsed": false
   },
   "outputs": [
    {
     "data": {
      "text/plain": [
       "True"
      ]
     },
     "execution_count": 27,
     "metadata": {},
     "output_type": "execute_result"
    }
   ],
   "source": [
    "F = sympy.Poly(y**3 + y + x*(y**2 + y) + y*x**2)\n",
    "P, Q = HenselsLemma(F)\n",
    "F == P*Q"
   ]
  }
 ],
 "metadata": {
  "kernelspec": {
   "display_name": "Python 3",
   "language": "python",
   "name": "python3"
  },
  "language_info": {
   "codemirror_mode": {
    "name": "ipython",
    "version": 3
   },
   "file_extension": ".py",
   "mimetype": "text/x-python",
   "name": "python",
   "nbconvert_exporter": "python",
   "pygments_lexer": "ipython3",
   "version": "3.4.3"
  }
 },
 "nbformat": 4,
 "nbformat_minor": 0
}
