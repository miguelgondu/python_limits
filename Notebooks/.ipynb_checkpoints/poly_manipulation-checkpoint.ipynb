{
 "cells": [
  {
   "cell_type": "code",
   "execution_count": 1,
   "metadata": {
    "collapsed": true
   },
   "outputs": [],
   "source": [
    "import sympy"
   ]
  },
  {
   "cell_type": "code",
   "execution_count": 2,
   "metadata": {
    "collapsed": false
   },
   "outputs": [],
   "source": [
    "x = sympy.Symbol('x', constant = True)\n",
    "y = sympy.Symbol('y')"
   ]
  },
  {
   "cell_type": "markdown",
   "metadata": {},
   "source": [
    "## Algoritmo de euclides extendido: sympy.gcdex"
   ]
  },
  {
   "cell_type": "code",
   "execution_count": 3,
   "metadata": {
    "collapsed": false
   },
   "outputs": [
    {
     "name": "stdout",
     "output_type": "stream",
     "text": [
      "Poly(0, y, domain='QQ(x)')\n",
      "Poly(1, y, domain='QQ(x)')\n",
      "Poly(y + x, y, domain='QQ(x)')\n",
      "y*(x + y)\n",
      "y*(x + y)\n",
      "['y', '(x + y)']\n"
     ]
    }
   ],
   "source": [
    "f = sympy.Poly(y*x + y**2, y, domain=sympy.QQ[x])\n",
    "g = sympy.Poly(y+x, y, domain=sympy.QQ[x])\n",
    "(s, t, gcd) = sympy.gcdex(f,g)\n",
    "print(s)\n",
    "print(t)\n",
    "print(gcd)\n",
    "ffact = sympy.factor(f)\n",
    "print(ffact)\n",
    "print(str(ffact))\n",
    "print(str(ffact).split('*'))"
   ]
  },
  {
   "cell_type": "markdown",
   "metadata": {},
   "source": [
    "## Algoritmo de la división para polinomios:"
   ]
  },
  {
   "cell_type": "code",
   "execution_count": 4,
   "metadata": {
    "collapsed": false
   },
   "outputs": [
    {
     "data": {
      "text/plain": [
       "(Poly(y, y, domain='QQ[x]'), Poly(0, y, domain='QQ[x]'))"
      ]
     },
     "execution_count": 4,
     "metadata": {},
     "output_type": "execute_result"
    }
   ],
   "source": [
    "sympy.div(f,g)"
   ]
  },
  {
   "cell_type": "code",
   "execution_count": 5,
   "metadata": {
    "collapsed": false
   },
   "outputs": [
    {
     "name": "stdout",
     "output_type": "stream",
     "text": [
      "True\n",
      "1\n",
      "2\n",
      "y + 1\n"
     ]
    }
   ],
   "source": [
    "p = sympy.Poly(y+1)\n",
    "q = sympy.Poly(y**2)\n",
    "a,b,gcd = sympy.gcdex(p,q)\n",
    "print(gcd == 1)\n",
    "print(sympy.degree(p))\n",
    "print(sympy.degree(q))\n",
    "print(str(sympy.factor(p)))"
   ]
  },
  {
   "cell_type": "code",
   "execution_count": 6,
   "metadata": {
    "collapsed": false
   },
   "outputs": [
    {
     "data": {
      "text/plain": [
       "x*y**2 + x*y + y**2 + 4"
      ]
     },
     "execution_count": 6,
     "metadata": {},
     "output_type": "execute_result"
    }
   ],
   "source": [
    "a = sympy.simplify('x*y + x*y^2 + y^2 + 4')\n",
    "sympy.factor(a, x)"
   ]
  },
  {
   "cell_type": "code",
   "execution_count": 7,
   "metadata": {
    "collapsed": true
   },
   "outputs": [],
   "source": [
    "f.eval?"
   ]
  },
  {
   "cell_type": "code",
   "execution_count": 38,
   "metadata": {
    "collapsed": false
   },
   "outputs": [
    {
     "name": "stdout",
     "output_type": "stream",
     "text": [
      "Poly(4*x + y, x, y, domain='ZZ')\n",
      "Poly(y, y, domain='ZZ')\n",
      "Poly(y, y, domain='ZZ')\n"
     ]
    }
   ],
   "source": [
    "f = sympy.Poly(2*x**2 + y*x + y**2, y, domain=sympy.QQ[x])\n",
    "fdouble = sympy.Poly(f, x, y)\n",
    "fprime = sympy.diff(fdouble, x)\n",
    "print(fprime)\n",
    "fprime_at_0 = sympy.Poly(fprime,x,y).eval(x, 0)\n",
    "print(fprime_at_0)\n",
    "fres = sympy.Poly(fprime_at_0, y)\n",
    "print(fres)"
   ]
  },
  {
   "cell_type": "code",
   "execution_count": 14,
   "metadata": {
    "collapsed": false
   },
   "outputs": [
    {
     "name": "stdout",
     "output_type": "stream",
     "text": [
      "(Poly(x + y, x, y, domain='ZZ'),)\n",
      "(Poly(y**4 + x*y**3 + y**2 + x*y, y, domain='ZZ[x]'),)\n"
     ]
    }
   ],
   "source": [
    "g = sympy.Poly(y**4 + x*y**3 + y**2 + x*y, y)\n",
    "sympy.factor(g)\n",
    "h = sympy.Poly(x+y)\n",
    "print(sympy.Mul.make_args(h))\n",
    "print(sympy.Mul.make_args(g))\n",
    "sympy.Poly.is_irreducible?"
   ]
  },
  {
   "cell_type": "code",
   "execution_count": 21,
   "metadata": {
    "collapsed": true
   },
   "outputs": [],
   "source": [
    "import itertools"
   ]
  },
  {
   "cell_type": "code",
   "execution_count": 28,
   "metadata": {
    "collapsed": false
   },
   "outputs": [],
   "source": [
    "def pqgetter(f):\n",
    "    if f.is_irreducible:\n",
    "        raise ValueError('f has no factorization')\n",
    "    _list_of_factors = list(f.factor().args) # Suponiendo que excluímos ya a los polinomios no factorizables.\n",
    "    if len(_list_of_factors) == 2:\n",
    "        if sympy.gcd(_list_of_factors[0], _list_of_factors[1]) == 1:\n",
    "            return _list_of_factors[0], _list_of_factors[1]\n",
    "        else:\n",
    "            raise ValueError('f has no factorization f=pq with gcd(p,q) = 1')\n",
    "    else:\n",
    "        first_factor = _list_of_factors[0]\n",
    "        second_factor = 1\n",
    "        for index in range(1, len(_list_of_factors)):\n",
    "            second_factor = second_factor * _list_of_factors[index]\n",
    "        return first_factor, second_factor"
   ]
  },
  {
   "cell_type": "code",
   "execution_count": 29,
   "metadata": {
    "collapsed": false
   },
   "outputs": [
    {
     "name": "stdout",
     "output_type": "stream",
     "text": [
      "1\n",
      "2\n",
      "3\n",
      "4\n",
      "5\n",
      "6\n",
      "7\n",
      "8\n",
      "9\n"
     ]
    }
   ],
   "source": [
    "for index in range(1, 10):\n",
    "    print(index)"
   ]
  },
  {
   "cell_type": "code",
   "execution_count": 31,
   "metadata": {
    "collapsed": false
   },
   "outputs": [
    {
     "name": "stdout",
     "output_type": "stream",
     "text": [
      "y*(x + y)*(y**2 + 1)\n",
      "(y, y**2 + 1, x + y)\n"
     ]
    },
    {
     "data": {
      "text/plain": [
       "1"
      ]
     },
     "execution_count": 31,
     "metadata": {},
     "output_type": "execute_result"
    }
   ],
   "source": [
    "print(g.factor())\n",
    "print(g.factor().args)\n",
    "p, q = pqgetter(g)\n",
    "sympy.gcd(p,q)"
   ]
  }
 ],
 "metadata": {
  "kernelspec": {
   "display_name": "Python 3",
   "language": "python",
   "name": "python3"
  },
  "language_info": {
   "codemirror_mode": {
    "name": "ipython",
    "version": 3
   },
   "file_extension": ".py",
   "mimetype": "text/x-python",
   "name": "python",
   "nbconvert_exporter": "python",
   "pygments_lexer": "ipython3",
   "version": "3.4.3"
  }
 },
 "nbformat": 4,
 "nbformat_minor": 0
}
